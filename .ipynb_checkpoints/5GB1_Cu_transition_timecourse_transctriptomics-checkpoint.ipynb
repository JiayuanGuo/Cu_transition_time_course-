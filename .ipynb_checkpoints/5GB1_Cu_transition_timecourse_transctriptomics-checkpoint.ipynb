{
 "cells": [
  {
   "cell_type": "code",
   "execution_count": 1,
   "metadata": {
    "collapsed": true
   },
   "outputs": [],
   "source": [
    "import pandas as pd"
   ]
  },
  {
   "cell_type": "code",
   "execution_count": 4,
   "metadata": {
    "collapsed": false
   },
   "outputs": [],
   "source": [
    "data = pd.read_csv(\"5G_counts.tsv\", sep = \"\\t\")"
   ]
  },
  {
   "cell_type": "code",
   "execution_count": 7,
   "metadata": {
    "collapsed": false
   },
   "outputs": [],
   "source": [
    "columns_list = list(data.columns)"
   ]
  },
  {
   "cell_type": "code",
   "execution_count": null,
   "metadata": {
    "collapsed": true
   },
   "outputs": [],
   "source": []
  },
  {
   "cell_type": "code",
   "execution_count": null,
   "metadata": {
    "collapsed": true
   },
   "outputs": [],
   "source": []
  },
  {
   "cell_type": "code",
   "execution_count": null,
   "metadata": {
    "collapsed": true
   },
   "outputs": [],
   "source": []
  },
  {
   "cell_type": "markdown",
   "metadata": {},
   "source": [
    "### Aside, how to keep only columns with FM40, and FM34"
   ]
  },
  {
   "cell_type": "code",
   "execution_count": null,
   "metadata": {
    "collapsed": false
   },
   "outputs": [],
   "source": [
    "#can individualy identify 1 column into a new dataframe\n",
    "df = data[\"locus_tag\"]\n",
    "df"
   ]
  },
  {
   "cell_type": "code",
   "execution_count": null,
   "metadata": {
    "collapsed": false
   },
   "outputs": [],
   "source": [
    "#This doesnt work!!! cannot identify individual columns just by listing off the names... \n",
    "df1 = data[\"locus_tag\",\"type\"]  "
   ]
  },
  {
   "cell_type": "code",
   "execution_count": null,
   "metadata": {
    "collapsed": true
   },
   "outputs": [],
   "source": [
    "data_FM34_FM40 = data"
   ]
  },
  {
   "cell_type": "code",
   "execution_count": null,
   "metadata": {
    "collapsed": true
   },
   "outputs": [],
   "source": [
    "IPython.Notebook"
   ]
  },
  {
   "cell_type": "code",
   "execution_count": null,
   "metadata": {
    "collapsed": false
   },
   "outputs": [],
   "source": [
    "data.shape"
   ]
  },
  {
   "cell_type": "code",
   "execution_count": 8,
   "metadata": {
    "collapsed": false
   },
   "outputs": [
    {
     "data": {
      "text/plain": [
       "['locus_tag',\n",
       " 'product',\n",
       " 'type',\n",
       " 'gene_symbol',\n",
       " 'locus',\n",
       " 'start_coord',\n",
       " 'end_coord',\n",
       " 'note',\n",
       " 'translation',\n",
       " '5GB1_FM69_t2_TR1',\n",
       " '5GB1_FM69_t3_TR1',\n",
       " '5GB1_FM69_t3_TR1_UW',\n",
       " '5GB1_FM69_t4_TR1',\n",
       " '5GB1_FM69_t4_TR1_UW',\n",
       " '5GB1_FM80_t2_TR1',\n",
       " '5GB1_FM80_t4_TR1',\n",
       " '5GB1_FM81_t1_TR3',\n",
       " '5GB1_FM81_t2_TR3',\n",
       " '5GB1_vial_wLa_TR3',\n",
       " '5GB1_vial_woLa_TR2',\n",
       " '5GB1_FM40_T0m_TR2',\n",
       " '5GB1_FM34_T0_TR1_QC',\n",
       " '5GB1_FM40_T0_TR1_QC',\n",
       " '5GB1_FM40_T10m_TR3',\n",
       " '5GB1_FM40_T10m_TR3_QC',\n",
       " '5GB1_FM40_T150m_TR1_remake',\n",
       " '5GB1_FM40_T150m_TR1_QC',\n",
       " '5GB1_FM40_T180m_TR1',\n",
       " '5GB1_FM40_T180m_TR1_QC',\n",
       " '5GB1_FM40_T20m_TR2',\n",
       " '5GB1_FM34_T3_TR3_QC',\n",
       " '5GB1_FM40_T40m_TR1',\n",
       " '5GB1_FM40_T40m_TR1_QC',\n",
       " '5GB1_FM34_T4_TR3_QC',\n",
       " '5GB1_FM34_T5_TR2_QC',\n",
       " '5GB1_FM40_T60m_TR1',\n",
       " '5GB1_FM40_T60m_TR1_QC',\n",
       " '5GB1_FM34_T6_TR3_QC',\n",
       " '5GB1_FM34_T7_TR3_QC',\n",
       " '5GB1_FM34_T8_TR1_QC',\n",
       " '5GB1_FM40_T90m_TR2',\n",
       " '5GB1_FM40_T90m_TR2_QC',\n",
       " '5GB1_ferm_Ack_QC',\n",
       " '5GB1C_latelog_vial_TR2_QC',\n",
       " '5GB1_FM58_Td20h_TR1_QC',\n",
       " '5GB1_FM58_Td32h_TR3_QC',\n",
       " '5GB1_ferm_WT_QC',\n",
       " '5GB1_FM12_TR1',\n",
       " '5GB1_FM12_TR2',\n",
       " '5GB1_FM14_TR1',\n",
       " '5GB1_FM14_TR2',\n",
       " '5GB1_FM12_TR1_QC',\n",
       " '5GB1_FM12_TR2_QC',\n",
       " '5GB1_FM14_TR1_QC',\n",
       " '5GB1_FM14_TR2_QC',\n",
       " '5GB1_FM19_TR1',\n",
       " '5GB1_FM19_TR1_UW',\n",
       " '5GB1_FM19_TR3',\n",
       " '5GB1_FM22_TR1',\n",
       " '5GB1_FM22_TR3',\n",
       " '5GB1_FM22_TR3_UW',\n",
       " '5GB1_FM11_TR1_QC',\n",
       " '5GB1_FM11_TR2_QC',\n",
       " '5GB1_FM19_TR1_QC',\n",
       " '5GB1_FM19_TR3_QC',\n",
       " '5GB1_FM22_TR1_QC',\n",
       " '5GB1_FM22_TR3_QC',\n",
       " '5GB1_LTrecycle_TR1',\n",
       " '5GB1_LTrecycle_TR1_QC',\n",
       " '5GB1_FM18_TR2',\n",
       " '5GB1_FM18_TR3',\n",
       " '5GB1_FM23_TR3',\n",
       " '5GB1_FM18_TR2_QC',\n",
       " '5GB1_FM18_TR3_QC',\n",
       " '5GB1_FM23_TR3_QC',\n",
       " '5GB1_FM20_TR3',\n",
       " '5GB1_FM20_TR3_UW',\n",
       " '5GB1_FM21_TR1',\n",
       " '5GB1_FM21_TR2',\n",
       " '5GB1_FM21_TR2_UW',\n",
       " '5GB1_FM03_TR1_QC',\n",
       " '5GB1_FM03_TR2_QC',\n",
       " '5GB1_FM20_TR1_QC',\n",
       " '5GB1_FM20_TR2_QC',\n",
       " '5GB1_FM20_TR3_QC',\n",
       " '5GB1_FM21_TR1_QC',\n",
       " '5GB1_FM21_TR2_QC']"
      ]
     },
     "execution_count": 8,
     "metadata": {},
     "output_type": "execute_result"
    }
   ],
   "source": [
    "columns_list"
   ]
  },
  {
   "cell_type": "code",
   "execution_count": null,
   "metadata": {
    "collapsed": true
   },
   "outputs": [],
   "source": []
  }
 ],
 "metadata": {
  "kernelspec": {
   "display_name": "Python 3",
   "language": "python",
   "name": "python3"
  },
  "language_info": {
   "codemirror_mode": {
    "name": "ipython",
    "version": 3
   },
   "file_extension": ".py",
   "mimetype": "text/x-python",
   "name": "python",
   "nbconvert_exporter": "python",
   "pygments_lexer": "ipython3",
   "version": "3.4.4"
  }
 },
 "nbformat": 4,
 "nbformat_minor": 0
}
