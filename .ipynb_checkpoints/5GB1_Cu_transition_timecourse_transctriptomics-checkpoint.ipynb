{
 "cells": [
  {
   "cell_type": "markdown",
   "metadata": {},
   "source": [
    "# Time Course Transcriptomics for Cu-Induced transition in 5GB1"
   ]
  },
  {
   "cell_type": "code",
   "execution_count": 1,
   "metadata": {
    "collapsed": true
   },
   "outputs": [],
   "source": [
    "import pandas as pd\n",
    "import natsort as ns #3rd party package for natural sorting \n"
   ]
  },
  {
   "cell_type": "code",
   "execution_count": 2,
   "metadata": {
    "collapsed": false
   },
   "outputs": [],
   "source": [
    "data = pd.read_csv(\"5G_counts.tsv\", sep = \"\\t\")"
   ]
  },
  {
   "cell_type": "code",
   "execution_count": 3,
   "metadata": {
    "collapsed": true
   },
   "outputs": [],
   "source": [
    "columns_list = list(range(0,9)) + list(range(20,42)) #creating a list of columns that I care about (see below)\n",
    "data_1 = data.iloc[:, columns_list] #taking only 0-8 and 20-42 columns removing old FM runs "
   ]
  },
  {
   "cell_type": "code",
   "execution_count": 4,
   "metadata": {
    "collapsed": true
   },
   "outputs": [],
   "source": [
    "#Want to sort the data columns (20 - 42) in their timely order. Will split into 2 dataframes, sort, then put together.\n",
    "\n",
    "first_8 = data_1.iloc[:, 0:9] #new data frame with first 9 columns\n",
    "remaining_data = data_1.iloc[:,9:] # new data frame with remaining columns (to be sorted)\n",
    "\n",
    "\n",
    "cols = list(ns.natsorted(remaining_data.columns)) #using natural sort package\n",
    "newdf=remaining_data[cols]\n"
   ]
  },
  {
   "cell_type": "code",
   "execution_count": 7,
   "metadata": {
    "collapsed": true
   },
   "outputs": [],
   "source": [
    "data_2 = pd.concat([first_8, remaining_data], axis = 1) "
   ]
  },
  {
   "cell_type": "code",
   "execution_count": null,
   "metadata": {
    "collapsed": false
   },
   "outputs": [],
   "source": [
    "first_8"
   ]
  },
  {
   "cell_type": "code",
   "execution_count": 8,
   "metadata": {
    "collapsed": false
   },
   "outputs": [
    {
     "data": {
      "text/html": [
       "<div>\n",
       "<table border=\"1\" class=\"dataframe\">\n",
       "  <thead>\n",
       "    <tr style=\"text-align: right;\">\n",
       "      <th></th>\n",
       "      <th>locus_tag</th>\n",
       "      <th>product</th>\n",
       "      <th>type</th>\n",
       "      <th>gene_symbol</th>\n",
       "      <th>locus</th>\n",
       "      <th>start_coord</th>\n",
       "      <th>end_coord</th>\n",
       "      <th>note</th>\n",
       "      <th>translation</th>\n",
       "      <th>5GB1_FM40_T0m_TR2</th>\n",
       "      <th>...</th>\n",
       "      <th>5GB1_FM40_T40m_TR1_QC</th>\n",
       "      <th>5GB1_FM34_T4_TR3_QC</th>\n",
       "      <th>5GB1_FM34_T5_TR2_QC</th>\n",
       "      <th>5GB1_FM40_T60m_TR1</th>\n",
       "      <th>5GB1_FM40_T60m_TR1_QC</th>\n",
       "      <th>5GB1_FM34_T6_TR3_QC</th>\n",
       "      <th>5GB1_FM34_T7_TR3_QC</th>\n",
       "      <th>5GB1_FM34_T8_TR1_QC</th>\n",
       "      <th>5GB1_FM40_T90m_TR2</th>\n",
       "      <th>5GB1_FM40_T90m_TR2_QC</th>\n",
       "    </tr>\n",
       "  </thead>\n",
       "  <tbody>\n",
       "    <tr>\n",
       "      <th>0</th>\n",
       "      <td>MBURv2_100001</td>\n",
       "      <td>conserved protein of unknown function</td>\n",
       "      <td>CDS</td>\n",
       "      <td>NaN</td>\n",
       "      <td>MBURv2</td>\n",
       "      <td>1965161</td>\n",
       "      <td>1965952</td>\n",
       "      <td>Evidence 4 : Homologs of previously reported g...</td>\n",
       "      <td>NaN</td>\n",
       "      <td>648</td>\n",
       "      <td>...</td>\n",
       "      <td>233</td>\n",
       "      <td>100</td>\n",
       "      <td>90</td>\n",
       "      <td>513</td>\n",
       "      <td>127</td>\n",
       "      <td>56</td>\n",
       "      <td>117</td>\n",
       "      <td>124</td>\n",
       "      <td>294</td>\n",
       "      <td>214</td>\n",
       "    </tr>\n",
       "    <tr>\n",
       "      <th>1</th>\n",
       "      <td>MBURv2_100002</td>\n",
       "      <td>conserved protein of unknown function</td>\n",
       "      <td>CDS</td>\n",
       "      <td>NaN</td>\n",
       "      <td>MBURv2</td>\n",
       "      <td>1966190</td>\n",
       "      <td>1966369</td>\n",
       "      <td>Evidence 4 : Homologs of previously reported g...</td>\n",
       "      <td>NaN</td>\n",
       "      <td>45</td>\n",
       "      <td>...</td>\n",
       "      <td>10</td>\n",
       "      <td>4</td>\n",
       "      <td>4</td>\n",
       "      <td>21</td>\n",
       "      <td>5</td>\n",
       "      <td>1</td>\n",
       "      <td>10</td>\n",
       "      <td>3</td>\n",
       "      <td>18</td>\n",
       "      <td>13</td>\n",
       "    </tr>\n",
       "    <tr>\n",
       "      <th>2</th>\n",
       "      <td>MBURv2_100003</td>\n",
       "      <td>protein of unknown function</td>\n",
       "      <td>CDS</td>\n",
       "      <td>NaN</td>\n",
       "      <td>MBURv2</td>\n",
       "      <td>1966931</td>\n",
       "      <td>1967041</td>\n",
       "      <td>Evidence 5 : No homology to any previously rep...</td>\n",
       "      <td>NaN</td>\n",
       "      <td>20</td>\n",
       "      <td>...</td>\n",
       "      <td>4</td>\n",
       "      <td>3</td>\n",
       "      <td>2</td>\n",
       "      <td>12</td>\n",
       "      <td>2</td>\n",
       "      <td>0</td>\n",
       "      <td>2</td>\n",
       "      <td>0</td>\n",
       "      <td>6</td>\n",
       "      <td>4</td>\n",
       "    </tr>\n",
       "    <tr>\n",
       "      <th>3</th>\n",
       "      <td>MBURv2_10001</td>\n",
       "      <td>protein of unknown function</td>\n",
       "      <td>CDS</td>\n",
       "      <td>NaN</td>\n",
       "      <td>MBURv2</td>\n",
       "      <td>116</td>\n",
       "      <td>289</td>\n",
       "      <td>Evidence 5 : No homology to any previously rep...</td>\n",
       "      <td>NaN</td>\n",
       "      <td>88</td>\n",
       "      <td>...</td>\n",
       "      <td>44</td>\n",
       "      <td>23</td>\n",
       "      <td>6</td>\n",
       "      <td>67</td>\n",
       "      <td>11</td>\n",
       "      <td>5</td>\n",
       "      <td>9</td>\n",
       "      <td>8</td>\n",
       "      <td>38</td>\n",
       "      <td>39</td>\n",
       "    </tr>\n",
       "    <tr>\n",
       "      <th>4</th>\n",
       "      <td>MBURv2_10002</td>\n",
       "      <td>KfrB</td>\n",
       "      <td>CDS</td>\n",
       "      <td>kfrB</td>\n",
       "      <td>MBURv2</td>\n",
       "      <td>497</td>\n",
       "      <td>844</td>\n",
       "      <td>NaN</td>\n",
       "      <td>NaN</td>\n",
       "      <td>1061</td>\n",
       "      <td>...</td>\n",
       "      <td>613</td>\n",
       "      <td>196</td>\n",
       "      <td>173</td>\n",
       "      <td>780</td>\n",
       "      <td>398</td>\n",
       "      <td>132</td>\n",
       "      <td>192</td>\n",
       "      <td>241</td>\n",
       "      <td>667</td>\n",
       "      <td>546</td>\n",
       "    </tr>\n",
       "  </tbody>\n",
       "</table>\n",
       "<p>5 rows × 31 columns</p>\n",
       "</div>"
      ],
      "text/plain": [
       "       locus_tag                                product type gene_symbol  \\\n",
       "0  MBURv2_100001  conserved protein of unknown function  CDS         NaN   \n",
       "1  MBURv2_100002  conserved protein of unknown function  CDS         NaN   \n",
       "2  MBURv2_100003            protein of unknown function  CDS         NaN   \n",
       "3   MBURv2_10001            protein of unknown function  CDS         NaN   \n",
       "4   MBURv2_10002                                   KfrB  CDS        kfrB   \n",
       "\n",
       "    locus  start_coord  end_coord  \\\n",
       "0  MBURv2      1965161    1965952   \n",
       "1  MBURv2      1966190    1966369   \n",
       "2  MBURv2      1966931    1967041   \n",
       "3  MBURv2          116        289   \n",
       "4  MBURv2          497        844   \n",
       "\n",
       "                                                note  translation  \\\n",
       "0  Evidence 4 : Homologs of previously reported g...          NaN   \n",
       "1  Evidence 4 : Homologs of previously reported g...          NaN   \n",
       "2  Evidence 5 : No homology to any previously rep...          NaN   \n",
       "3  Evidence 5 : No homology to any previously rep...          NaN   \n",
       "4                                                NaN          NaN   \n",
       "\n",
       "   5GB1_FM40_T0m_TR2          ...            5GB1_FM40_T40m_TR1_QC  \\\n",
       "0                648          ...                              233   \n",
       "1                 45          ...                               10   \n",
       "2                 20          ...                                4   \n",
       "3                 88          ...                               44   \n",
       "4               1061          ...                              613   \n",
       "\n",
       "   5GB1_FM34_T4_TR3_QC  5GB1_FM34_T5_TR2_QC  5GB1_FM40_T60m_TR1  \\\n",
       "0                  100                   90                 513   \n",
       "1                    4                    4                  21   \n",
       "2                    3                    2                  12   \n",
       "3                   23                    6                  67   \n",
       "4                  196                  173                 780   \n",
       "\n",
       "   5GB1_FM40_T60m_TR1_QC  5GB1_FM34_T6_TR3_QC  5GB1_FM34_T7_TR3_QC  \\\n",
       "0                    127                   56                  117   \n",
       "1                      5                    1                   10   \n",
       "2                      2                    0                    2   \n",
       "3                     11                    5                    9   \n",
       "4                    398                  132                  192   \n",
       "\n",
       "   5GB1_FM34_T8_TR1_QC  5GB1_FM40_T90m_TR2  5GB1_FM40_T90m_TR2_QC  \n",
       "0                  124                 294                    214  \n",
       "1                    3                  18                     13  \n",
       "2                    0                   6                      4  \n",
       "3                    8                  38                     39  \n",
       "4                  241                 667                    546  \n",
       "\n",
       "[5 rows x 31 columns]"
      ]
     },
     "execution_count": 8,
     "metadata": {},
     "output_type": "execute_result"
    }
   ],
   "source": [
    "data_2.head()"
   ]
  },
  {
   "cell_type": "code",
   "execution_count": null,
   "metadata": {
    "collapsed": true
   },
   "outputs": [],
   "source": []
  },
  {
   "cell_type": "code",
   "execution_count": null,
   "metadata": {
    "collapsed": true
   },
   "outputs": [],
   "source": []
  },
  {
   "cell_type": "code",
   "execution_count": null,
   "metadata": {
    "collapsed": true
   },
   "outputs": [],
   "source": []
  },
  {
   "cell_type": "markdown",
   "metadata": {},
   "source": [
    "### Aside, how to keep only columns with FM40, and FM34"
   ]
  },
  {
   "cell_type": "code",
   "execution_count": null,
   "metadata": {
    "collapsed": false
   },
   "outputs": [],
   "source": [
    "#can individualy identify 1 column into a new dataframe\n",
    "df = data[\"locus_tag\"]\n",
    "df"
   ]
  },
  {
   "cell_type": "code",
   "execution_count": null,
   "metadata": {
    "collapsed": false
   },
   "outputs": [],
   "source": [
    "# for multiple column selection must use the __getitem__ syntax [] \n",
    "df1 = data[[\"locus_tag\",\"type\"]]  \n",
    "df1\n",
    "#Dont want to manually enter all the column names "
   ]
  },
  {
   "cell_type": "markdown",
   "metadata": {},
   "source": [
    "### identifying the column index in order to remove unnecessary columns from data "
   ]
  },
  {
   "cell_type": "code",
   "execution_count": null,
   "metadata": {
    "collapsed": false
   },
   "outputs": [],
   "source": [
    "list(data.columns)"
   ]
  },
  {
   "cell_type": "code",
   "execution_count": null,
   "metadata": {
    "collapsed": false
   },
   "outputs": [],
   "source": [
    "print(data.columns.get_loc(\"translation\"))\n",
    "print(data.columns.get_loc(\"5GB1_FM40_T0m_TR2\"))\n",
    "print(data.columns.get_loc(\"5GB1_FM40_T90m_TR2_QC\"))"
   ]
  },
  {
   "cell_type": "code",
   "execution_count": null,
   "metadata": {
    "collapsed": true
   },
   "outputs": [],
   "source": [
    "columns_list = list(range(0,9)) + list(range(20,42))"
   ]
  },
  {
   "cell_type": "code",
   "execution_count": null,
   "metadata": {
    "collapsed": false
   },
   "outputs": [],
   "source": [
    "columns_list"
   ]
  },
  {
   "cell_type": "code",
   "execution_count": null,
   "metadata": {
    "collapsed": true
   },
   "outputs": [],
   "source": [
    "data_1 = data.iloc[:, columns_list] #slicing the column index the way I want. "
   ]
  },
  {
   "cell_type": "markdown",
   "metadata": {},
   "source": [
    "### Reordering certain columns alphabetically, only after the initial 0-8 columns. "
   ]
  },
  {
   "cell_type": "code",
   "execution_count": null,
   "metadata": {
    "collapsed": false
   },
   "outputs": [],
   "source": [
    "first_8 = data_1.iloc[:, 0:9] #new data frame with first 9 columns\n",
    "remaining_data = data_1.iloc[:,9:] # new data frame with remaining columns (to be sorted)\n",
    "remaining_data"
   ]
  },
  {
   "cell_type": "code",
   "execution_count": null,
   "metadata": {
    "collapsed": false
   },
   "outputs": [],
   "source": [
    "sorted(remaining_data.columns)  #sorted is a python function that sorts your input (dont know by what criteria)"
   ]
  },
  {
   "cell_type": "code",
   "execution_count": null,
   "metadata": {
    "collapsed": false
   },
   "outputs": [],
   "source": [
    "list(sorted(remaining_data.columns,key=str)) # will list sorted columns, but doesnt sort this naturally (150 before 40)"
   ]
  },
  {
   "cell_type": "code",
   "execution_count": null,
   "metadata": {
    "collapsed": false
   },
   "outputs": [],
   "source": [
    "import natsort as ns #3rd party package for natural sorting \n",
    "list(ns.natsorted(remaining_data.columns)) #this works!"
   ]
  },
  {
   "cell_type": "code",
   "execution_count": null,
   "metadata": {
    "collapsed": false
   },
   "outputs": [],
   "source": [
    "cols=list(ns.natsorted(remaining_data.columns)) #this works!"
   ]
  },
  {
   "cell_type": "code",
   "execution_count": null,
   "metadata": {
    "collapsed": false
   },
   "outputs": [],
   "source": [
    "remaining_data[cols].head()"
   ]
  },
  {
   "cell_type": "code",
   "execution_count": null,
   "metadata": {
    "collapsed": true
   },
   "outputs": [],
   "source": [
    "newdf=remaining_data[cols]"
   ]
  },
  {
   "cell_type": "code",
   "execution_count": null,
   "metadata": {
    "collapsed": false
   },
   "outputs": [],
   "source": [
    "newdf.head()"
   ]
  },
  {
   "cell_type": "code",
   "execution_count": null,
   "metadata": {
    "collapsed": true
   },
   "outputs": [],
   "source": []
  },
  {
   "cell_type": "code",
   "execution_count": null,
   "metadata": {
    "collapsed": false
   },
   "outputs": [],
   "source": [
    "ns.natsorted(remaining_data)#the problem with this package is that passing the object as an argument \n",
    "                                            #returns a list, and I cant use that list for the dataframe, I need index. "
   ]
  },
  {
   "cell_type": "code",
   "execution_count": null,
   "metadata": {
    "collapsed": true
   },
   "outputs": [],
   "source": [
    "remaining_data.loc(\"5GB1_Cu_transition_tim\")"
   ]
  },
  {
   "cell_type": "code",
   "execution_count": null,
   "metadata": {
    "collapsed": true
   },
   "outputs": [],
   "source": []
  },
  {
   "cell_type": "code",
   "execution_count": null,
   "metadata": {
    "collapsed": true
   },
   "outputs": [],
   "source": []
  },
  {
   "cell_type": "code",
   "execution_count": null,
   "metadata": {
    "collapsed": false
   },
   "outputs": [],
   "source": [
    "remaining_data.columns = ns.natsorted(remaining_data.columns) #Do not run this line yet"
   ]
  },
  {
   "cell_type": "code",
   "execution_count": null,
   "metadata": {
    "collapsed": false
   },
   "outputs": [],
   "source": [
    "list(remaining_data.columns)"
   ]
  },
  {
   "cell_type": "code",
   "execution_count": null,
   "metadata": {
    "collapsed": false
   },
   "outputs": [],
   "source": [
    "remaining_data[\"5GB1_FM40_T150m_TR1_remake\"]"
   ]
  },
  {
   "cell_type": "code",
   "execution_count": null,
   "metadata": {
    "collapsed": false
   },
   "outputs": [],
   "source": [
    "data[\"5GB1_FM40_T150m_TR1_remake\"]"
   ]
  },
  {
   "cell_type": "markdown",
   "metadata": {},
   "source": [
    "### Taking an aside to understanding iloc, loc, ix"
   ]
  },
  {
   "cell_type": "code",
   "execution_count": null,
   "metadata": {
    "collapsed": false
   },
   "outputs": [],
   "source": [
    "data.ix[1:3] #supports mixed integer and label based access. It is\n",
    "            #primarily label based, but will fall back to integer positional\n",
    "            #access unless the corresponding axis is of integer type."
   ]
  },
  {
   "cell_type": "code",
   "execution_count": null,
   "metadata": {
    "collapsed": false
   },
   "outputs": [],
   "source": [
    "data.loc[1] #returns the first row, Note: \"1\" is\n",
    "            #interpreted as a *label* of the index, and **never** as an\n",
    "            # integer position along the index).\n",
    "data.loc[0:2,\"5GB1_FM34_T0_TR1_QC\"] #the integers are interpreted as names, not positions. "
   ]
  },
  {
   "cell_type": "code",
   "execution_count": null,
   "metadata": {
    "collapsed": false
   },
   "outputs": [],
   "source": [
    "data.iloc[1:3] #returns the data for axis 0 = 1,2,3 (or the first three rows of data)\n",
    "data.iloc[3] #returns the data for the third row \n",
    "data.iloc[[1,2,5]] #returns data for rows 1,2,5\n"
   ]
  },
  {
   "cell_type": "code",
   "execution_count": null,
   "metadata": {
    "collapsed": false
   },
   "outputs": [],
   "source": [
    "type(data.iloc[4])"
   ]
  },
  {
   "cell_type": "code",
   "execution_count": null,
   "metadata": {
    "collapsed": true
   },
   "outputs": [],
   "source": []
  }
 ],
 "metadata": {
  "kernelspec": {
   "display_name": "Python 3",
   "language": "python",
   "name": "python3"
  },
  "language_info": {
   "codemirror_mode": {
    "name": "ipython",
    "version": 3
   },
   "file_extension": ".py",
   "mimetype": "text/x-python",
   "name": "python",
   "nbconvert_exporter": "python",
   "pygments_lexer": "ipython3",
   "version": "3.4.4"
  }
 },
 "nbformat": 4,
 "nbformat_minor": 0
}
