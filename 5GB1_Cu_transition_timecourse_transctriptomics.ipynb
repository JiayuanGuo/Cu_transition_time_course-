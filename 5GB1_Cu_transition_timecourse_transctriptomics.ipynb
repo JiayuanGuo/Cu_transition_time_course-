{
 "cells": [
  {
   "cell_type": "markdown",
   "metadata": {},
   "source": [
    "# Time Course Transcriptomics for Cu-Induced transition in 5GB1"
   ]
  },
  {
   "cell_type": "code",
   "execution_count": 1,
   "metadata": {
    "collapsed": true
   },
   "outputs": [],
   "source": [
    "import pandas as pd"
   ]
  },
  {
   "cell_type": "code",
   "execution_count": 2,
   "metadata": {
    "collapsed": false
   },
   "outputs": [],
   "source": [
    "data = pd.read_csv(\"5G_counts.tsv\", sep = \"\\t\")"
   ]
  },
  {
   "cell_type": "code",
   "execution_count": 3,
   "metadata": {
    "collapsed": false
   },
   "outputs": [],
   "source": [
    "columns_list = list(data.columns)"
   ]
  },
  {
   "cell_type": "code",
   "execution_count": null,
   "metadata": {
    "collapsed": true
   },
   "outputs": [],
   "source": []
  },
  {
   "cell_type": "code",
   "execution_count": null,
   "metadata": {
    "collapsed": true
   },
   "outputs": [],
   "source": []
  },
  {
   "cell_type": "code",
   "execution_count": null,
   "metadata": {
    "collapsed": true
   },
   "outputs": [],
   "source": []
  },
  {
   "cell_type": "markdown",
   "metadata": {},
   "source": [
    "### Aside, how to keep only columns with FM40, and FM34"
   ]
  },
  {
   "cell_type": "code",
   "execution_count": null,
   "metadata": {
    "collapsed": false
   },
   "outputs": [],
   "source": [
    "#can individualy identify 1 column into a new dataframe\n",
    "df = data[\"locus_tag\"]\n",
    "df"
   ]
  },
  {
   "cell_type": "code",
   "execution_count": null,
   "metadata": {
    "collapsed": false
   },
   "outputs": [],
   "source": [
    "#This doesnt work!!! cannot identify individual columns just by listing off the names... \n",
    "df1 = data[\"locus_tag\",\"type\"]  "
   ]
  },
  {
   "cell_type": "code",
   "execution_count": null,
   "metadata": {
    "collapsed": true
   },
   "outputs": [],
   "source": []
  },
  {
   "cell_type": "markdown",
   "metadata": {},
   "source": [
    "### Trying to figure out which axis is rows and which is columns. df.mean(axis=0) does this \n",
    "### compute along the rows or along the columns "
   ]
  },
  {
   "cell_type": "code",
   "execution_count": 7,
   "metadata": {
    "collapsed": false
   },
   "outputs": [
    {
     "data": {
      "text/plain": [
       "start_coord                   2534873.745700\n",
       "end_coord                     2535792.980623\n",
       "translation                              NaN\n",
       "5GB1_FM69_t2_TR1                  435.339430\n",
       "5GB1_FM69_t3_TR1                 4766.287612\n",
       "5GB1_FM69_t3_TR1_UW               628.296320\n",
       "5GB1_FM69_t4_TR1                 4481.584585\n",
       "5GB1_FM69_t4_TR1_UW               490.642064\n",
       "5GB1_FM80_t2_TR1                 4855.657740\n",
       "5GB1_FM80_t4_TR1                 4726.502722\n",
       "5GB1_FM81_t1_TR3                 5035.135423\n",
       "5GB1_FM81_t2_TR3                 5157.514914\n",
       "5GB1_vial_wLa_TR3                 193.771174\n",
       "5GB1_vial_woLa_TR2                333.535815\n",
       "5GB1_FM40_T0m_TR2                5681.330938\n",
       "5GB1_FM34_T0_TR1_QC              1126.565643\n",
       "5GB1_FM40_T0_TR1_QC               765.572393\n",
       "5GB1_FM40_T10m_TR3               2800.890486\n",
       "5GB1_FM40_T10m_TR3_QC            2699.923797\n",
       "5GB1_FM40_T150m_TR1_remake       7385.885042\n",
       "5GB1_FM40_T150m_TR1_QC           2095.874809\n",
       "5GB1_FM40_T180m_TR1              3044.896582\n",
       "5GB1_FM40_T180m_TR1_QC           2567.536251\n",
       "5GB1_FM40_T20m_TR2               3272.518833\n",
       "5GB1_FM34_T3_TR3_QC              1044.457218\n",
       "5GB1_FM40_T40m_TR1               2491.987590\n",
       "5GB1_FM40_T40m_TR1_QC            2749.078380\n",
       "5GB1_FM34_T4_TR3_QC              1105.323536\n",
       "5GB1_FM34_T5_TR2_QC               865.091444\n",
       "5GB1_FM40_T60m_TR1               4836.001524\n",
       "                                   ...      \n",
       "5GB1_FM19_TR3                    8837.431309\n",
       "5GB1_FM22_TR1                    7411.659482\n",
       "5GB1_FM22_TR3                    4040.147180\n",
       "5GB1_FM22_TR3_UW                 7630.894405\n",
       "5GB1_FM11_TR1_QC                  345.860658\n",
       "5GB1_FM11_TR2_QC                 1334.794252\n",
       "5GB1_FM19_TR1_QC                 2282.788374\n",
       "5GB1_FM19_TR3_QC                  487.458742\n",
       "5GB1_FM22_TR1_QC                  711.152624\n",
       "5GB1_FM22_TR3_QC                  776.627041\n",
       "5GB1_LTrecycle_TR1               2320.204442\n",
       "5GB1_LTrecycle_TR1_QC            1961.045504\n",
       "5GB1_FM18_TR2                    2627.821250\n",
       "5GB1_FM18_TR3                    1619.082952\n",
       "5GB1_FM23_TR3                    1423.941433\n",
       "5GB1_FM18_TR2_QC                  839.697148\n",
       "5GB1_FM18_TR3_QC                  617.158502\n",
       "5GB1_FM23_TR3_QC                  511.625735\n",
       "5GB1_FM20_TR3                    4882.549967\n",
       "5GB1_FM20_TR3_UW                 9217.484433\n",
       "5GB1_FM21_TR1                    7015.457218\n",
       "5GB1_FM21_TR2                    4465.494884\n",
       "5GB1_FM21_TR2_UW                 6425.675811\n",
       "5GB1_FM03_TR1_QC                  209.005225\n",
       "5GB1_FM03_TR2_QC                  777.283910\n",
       "5GB1_FM20_TR1_QC                   95.153059\n",
       "5GB1_FM20_TR2_QC                 1414.355541\n",
       "5GB1_FM20_TR3_QC                  473.230351\n",
       "5GB1_FM21_TR1_QC                  659.768996\n",
       "5GB1_FM21_TR2_QC                  716.943610\n",
       "dtype: float64"
      ]
     },
     "execution_count": 7,
     "metadata": {},
     "output_type": "execute_result"
    }
   ],
   "source": [
    "#by default, if an operation is called on a datafram it is computed on axis = 0, along the \n",
    "data.mean(axis = 0)"
   ]
  },
  {
   "cell_type": "code",
   "execution_count": null,
   "metadata": {
    "collapsed": true
   },
   "outputs": [],
   "source": []
  },
  {
   "cell_type": "code",
   "execution_count": null,
   "metadata": {
    "collapsed": true
   },
   "outputs": [],
   "source": []
  },
  {
   "cell_type": "code",
   "execution_count": 4,
   "metadata": {
    "collapsed": false
   },
   "outputs": [
    {
     "data": {
      "text/plain": [
       "['locus_tag',\n",
       " 'product',\n",
       " 'type',\n",
       " 'gene_symbol',\n",
       " 'locus',\n",
       " 'start_coord',\n",
       " 'end_coord',\n",
       " 'note',\n",
       " 'translation',\n",
       " '5GB1_FM69_t2_TR1',\n",
       " '5GB1_FM69_t3_TR1',\n",
       " '5GB1_FM69_t3_TR1_UW',\n",
       " '5GB1_FM69_t4_TR1',\n",
       " '5GB1_FM69_t4_TR1_UW',\n",
       " '5GB1_FM80_t2_TR1',\n",
       " '5GB1_FM80_t4_TR1',\n",
       " '5GB1_FM81_t1_TR3',\n",
       " '5GB1_FM81_t2_TR3',\n",
       " '5GB1_vial_wLa_TR3',\n",
       " '5GB1_vial_woLa_TR2',\n",
       " '5GB1_FM40_T0m_TR2',\n",
       " '5GB1_FM34_T0_TR1_QC',\n",
       " '5GB1_FM40_T0_TR1_QC',\n",
       " '5GB1_FM40_T10m_TR3',\n",
       " '5GB1_FM40_T10m_TR3_QC',\n",
       " '5GB1_FM40_T150m_TR1_remake',\n",
       " '5GB1_FM40_T150m_TR1_QC',\n",
       " '5GB1_FM40_T180m_TR1',\n",
       " '5GB1_FM40_T180m_TR1_QC',\n",
       " '5GB1_FM40_T20m_TR2',\n",
       " '5GB1_FM34_T3_TR3_QC',\n",
       " '5GB1_FM40_T40m_TR1',\n",
       " '5GB1_FM40_T40m_TR1_QC',\n",
       " '5GB1_FM34_T4_TR3_QC',\n",
       " '5GB1_FM34_T5_TR2_QC',\n",
       " '5GB1_FM40_T60m_TR1',\n",
       " '5GB1_FM40_T60m_TR1_QC',\n",
       " '5GB1_FM34_T6_TR3_QC',\n",
       " '5GB1_FM34_T7_TR3_QC',\n",
       " '5GB1_FM34_T8_TR1_QC',\n",
       " '5GB1_FM40_T90m_TR2',\n",
       " '5GB1_FM40_T90m_TR2_QC',\n",
       " '5GB1_ferm_Ack_QC',\n",
       " '5GB1C_latelog_vial_TR2_QC',\n",
       " '5GB1_FM58_Td20h_TR1_QC',\n",
       " '5GB1_FM58_Td32h_TR3_QC',\n",
       " '5GB1_ferm_WT_QC',\n",
       " '5GB1_FM12_TR1',\n",
       " '5GB1_FM12_TR2',\n",
       " '5GB1_FM14_TR1',\n",
       " '5GB1_FM14_TR2',\n",
       " '5GB1_FM12_TR1_QC',\n",
       " '5GB1_FM12_TR2_QC',\n",
       " '5GB1_FM14_TR1_QC',\n",
       " '5GB1_FM14_TR2_QC',\n",
       " '5GB1_FM19_TR1',\n",
       " '5GB1_FM19_TR1_UW',\n",
       " '5GB1_FM19_TR3',\n",
       " '5GB1_FM22_TR1',\n",
       " '5GB1_FM22_TR3',\n",
       " '5GB1_FM22_TR3_UW',\n",
       " '5GB1_FM11_TR1_QC',\n",
       " '5GB1_FM11_TR2_QC',\n",
       " '5GB1_FM19_TR1_QC',\n",
       " '5GB1_FM19_TR3_QC',\n",
       " '5GB1_FM22_TR1_QC',\n",
       " '5GB1_FM22_TR3_QC',\n",
       " '5GB1_LTrecycle_TR1',\n",
       " '5GB1_LTrecycle_TR1_QC',\n",
       " '5GB1_FM18_TR2',\n",
       " '5GB1_FM18_TR3',\n",
       " '5GB1_FM23_TR3',\n",
       " '5GB1_FM18_TR2_QC',\n",
       " '5GB1_FM18_TR3_QC',\n",
       " '5GB1_FM23_TR3_QC',\n",
       " '5GB1_FM20_TR3',\n",
       " '5GB1_FM20_TR3_UW',\n",
       " '5GB1_FM21_TR1',\n",
       " '5GB1_FM21_TR2',\n",
       " '5GB1_FM21_TR2_UW',\n",
       " '5GB1_FM03_TR1_QC',\n",
       " '5GB1_FM03_TR2_QC',\n",
       " '5GB1_FM20_TR1_QC',\n",
       " '5GB1_FM20_TR2_QC',\n",
       " '5GB1_FM20_TR3_QC',\n",
       " '5GB1_FM21_TR1_QC',\n",
       " '5GB1_FM21_TR2_QC']"
      ]
     },
     "execution_count": 4,
     "metadata": {},
     "output_type": "execute_result"
    }
   ],
   "source": [
    "columns_list"
   ]
  },
  {
   "cell_type": "code",
   "execution_count": null,
   "metadata": {
    "collapsed": true
   },
   "outputs": [],
   "source": []
  }
 ],
 "metadata": {
  "kernelspec": {
   "display_name": "Python 3",
   "language": "python",
   "name": "python3"
  },
  "language_info": {
   "codemirror_mode": {
    "name": "ipython",
    "version": 3
   },
   "file_extension": ".py",
   "mimetype": "text/x-python",
   "name": "python",
   "nbconvert_exporter": "python",
   "pygments_lexer": "ipython3",
   "version": "3.4.4"
  }
 },
 "nbformat": 4,
 "nbformat_minor": 0
}
