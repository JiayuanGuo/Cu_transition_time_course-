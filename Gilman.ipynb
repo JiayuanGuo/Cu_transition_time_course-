{
 "cells": [
  {
   "cell_type": "markdown",
   "metadata": {},
   "source": [
    "# Working with DACB to create function to compute pairwise distance matrix across rows. "
   ]
  },
  {
   "cell_type": "code",
   "execution_count": 103,
   "metadata": {
    "collapsed": false
   },
   "outputs": [],
   "source": [
    "import numpy\n",
    "import pandas as pd\n",
    "from scipy.stats.stats import pearsonr\n",
    "import matplotlib.pyplot as plt\n",
    "%matplotlib inline"
   ]
  },
  {
   "cell_type": "code",
   "execution_count": 102,
   "metadata": {
    "collapsed": true
   },
   "outputs": [],
   "source": [
    "df = pd.DataFrame([[-1, 0, 1], [1, 0, -1], [.5, 0, .5]])"
   ]
  },
  {
   "cell_type": "code",
   "execution_count": 87,
   "metadata": {
    "collapsed": false
   },
   "outputs": [
    {
     "data": {
      "text/html": [
       "<div>\n",
       "<table border=\"1\" class=\"dataframe\">\n",
       "  <thead>\n",
       "    <tr style=\"text-align: right;\">\n",
       "      <th></th>\n",
       "      <th>0</th>\n",
       "      <th>1</th>\n",
       "      <th>2</th>\n",
       "    </tr>\n",
       "  </thead>\n",
       "  <tbody>\n",
       "    <tr>\n",
       "      <th>0</th>\n",
       "      <td>-1.0</td>\n",
       "      <td>0</td>\n",
       "      <td>1.0</td>\n",
       "    </tr>\n",
       "    <tr>\n",
       "      <th>1</th>\n",
       "      <td>1.0</td>\n",
       "      <td>0</td>\n",
       "      <td>-1.0</td>\n",
       "    </tr>\n",
       "    <tr>\n",
       "      <th>2</th>\n",
       "      <td>0.5</td>\n",
       "      <td>0</td>\n",
       "      <td>0.5</td>\n",
       "    </tr>\n",
       "  </tbody>\n",
       "</table>\n",
       "</div>"
      ],
      "text/plain": [
       "     0  1    2\n",
       "0 -1.0  0  1.0\n",
       "1  1.0  0 -1.0\n",
       "2  0.5  0  0.5"
      ]
     },
     "execution_count": 87,
     "metadata": {},
     "output_type": "execute_result"
    }
   ],
   "source": [
    "df"
   ]
  },
  {
   "cell_type": "code",
   "execution_count": null,
   "metadata": {
    "collapsed": true
   },
   "outputs": [],
   "source": []
  },
  {
   "cell_type": "code",
   "execution_count": 88,
   "metadata": {
    "collapsed": false
   },
   "outputs": [],
   "source": [
    "def compare_all_rows_pearson(df):\n",
    "    \"\"\"df is a pandas dataframe\n",
    "        returns a symmetrical metric matrix\"\"\"\n",
    "    \n",
    "    metric = pd.DataFrame()\n",
    "    \n",
    "    for index_i, row_i in df.iterrows():\n",
    "        for index_j, row_j in df.iterrows():\n",
    "            if index_j < index_i:\n",
    "                continue\n",
    "            if index_j == index_i:\n",
    "                metric.loc[index_i, index_j] = 1\n",
    "                continue\n",
    "            metric.loc[index_i, index_j] = row_i.corr(row_j, 'pearson')\n",
    "            metric.loc[index_j, index_i] = metric.loc[index_i, index_j]\n",
    "            \n",
    "    return metric"
   ]
  },
  {
   "cell_type": "code",
   "execution_count": 89,
   "metadata": {
    "collapsed": false
   },
   "outputs": [
    {
     "data": {
      "text/html": [
       "<div>\n",
       "<table border=\"1\" class=\"dataframe\">\n",
       "  <thead>\n",
       "    <tr style=\"text-align: right;\">\n",
       "      <th></th>\n",
       "      <th>0</th>\n",
       "      <th>1</th>\n",
       "      <th>2</th>\n",
       "    </tr>\n",
       "  </thead>\n",
       "  <tbody>\n",
       "    <tr>\n",
       "      <th>0</th>\n",
       "      <td>1.0</td>\n",
       "      <td>-1.0</td>\n",
       "      <td>0.0</td>\n",
       "    </tr>\n",
       "    <tr>\n",
       "      <th>1</th>\n",
       "      <td>-1.0</td>\n",
       "      <td>1.0</td>\n",
       "      <td>0.0</td>\n",
       "    </tr>\n",
       "    <tr>\n",
       "      <th>2</th>\n",
       "      <td>0.0</td>\n",
       "      <td>0.0</td>\n",
       "      <td>1.0</td>\n",
       "    </tr>\n",
       "  </tbody>\n",
       "</table>\n",
       "</div>"
      ],
      "text/plain": [
       "     0    1    2\n",
       "0  1.0 -1.0  0.0\n",
       "1 -1.0  1.0  0.0\n",
       "2  0.0  0.0  1.0"
      ]
     },
     "execution_count": 89,
     "metadata": {},
     "output_type": "execute_result"
    }
   ],
   "source": [
    "compare_all_rows_pearson(df)"
   ]
  },
  {
   "cell_type": "code",
   "execution_count": 93,
   "metadata": {
    "collapsed": true
   },
   "outputs": [],
   "source": [
    "def simple_pearson(x, y):\n",
    "    return pearsonr(x, y)[0]\n",
    "\n",
    "def simple_euclidean(x, y):\n",
    "    return numpy.linalg.norm(x - y, ord=2) \n",
    "\n",
    "def compare_all_rows_commutative(df, compare):\n",
    "    \"\"\"df is a pandas dataframe\n",
    "    compare is a method for comparing two vectors which is commutative\n",
    "        returns a symmetrical metric matrix\"\"\"\n",
    "    \n",
    "    metric = pd.DataFrame()\n",
    "    \n",
    "    for index_i, row_i in df.iterrows():\n",
    "        for index_j, row_j in df.iterrows():\n",
    "            if index_j < index_i:\n",
    "                continue\n",
    "            metric.loc[index_i, index_j] = compare(row_i, row_j)\n",
    "            metric.loc[index_j, index_i] = metric.loc[index_i, index_j]\n",
    "            \n",
    "    return metric"
   ]
  },
  {
   "cell_type": "code",
   "execution_count": 94,
   "metadata": {
    "collapsed": false
   },
   "outputs": [
    {
     "data": {
      "text/html": [
       "<div>\n",
       "<table border=\"1\" class=\"dataframe\">\n",
       "  <thead>\n",
       "    <tr style=\"text-align: right;\">\n",
       "      <th></th>\n",
       "      <th>0</th>\n",
       "      <th>1</th>\n",
       "      <th>2</th>\n",
       "    </tr>\n",
       "  </thead>\n",
       "  <tbody>\n",
       "    <tr>\n",
       "      <th>0</th>\n",
       "      <td>1.0</td>\n",
       "      <td>-1.0</td>\n",
       "      <td>0.0</td>\n",
       "    </tr>\n",
       "    <tr>\n",
       "      <th>1</th>\n",
       "      <td>-1.0</td>\n",
       "      <td>1.0</td>\n",
       "      <td>0.0</td>\n",
       "    </tr>\n",
       "    <tr>\n",
       "      <th>2</th>\n",
       "      <td>0.0</td>\n",
       "      <td>0.0</td>\n",
       "      <td>1.0</td>\n",
       "    </tr>\n",
       "  </tbody>\n",
       "</table>\n",
       "</div>"
      ],
      "text/plain": [
       "     0    1    2\n",
       "0  1.0 -1.0  0.0\n",
       "1 -1.0  1.0  0.0\n",
       "2  0.0  0.0  1.0"
      ]
     },
     "execution_count": 94,
     "metadata": {},
     "output_type": "execute_result"
    }
   ],
   "source": [
    "compare_all_rows_commutative(df, simple_pearson)"
   ]
  },
  {
   "cell_type": "code",
   "execution_count": 104,
   "metadata": {
    "collapsed": false
   },
   "outputs": [],
   "source": [
    "Z = compare_all_rows_commutative(df, simple_euclidean)"
   ]
  },
  {
   "cell_type": "code",
   "execution_count": 105,
   "metadata": {
    "collapsed": false
   },
   "outputs": [
    {
     "data": {
      "text/plain": [
       "<matplotlib.contour.QuadContourSet at 0x1154c02b0>"
      ]
     },
     "execution_count": 105,
     "metadata": {},
     "output_type": "execute_result"
    },
    {
     "data": {
      "image/png": "[encoded data removed]",
      "text/plain": [
       "<matplotlib.figure.Figure at 0x10ca38d68>"
      ]
     },
     "metadata": {},
     "output_type": "display_data"
    }
   ],
   "source": [
    "plt.contour(Z)"
   ]
  },
  {
   "cell_type": "markdown",
   "metadata": {
    "collapsed": true
   },
   "source": [
    "# Pearson Correlation Example from stack exchange (Congruency table in pandas by piRSquared) "
   ]
  },
  {
   "cell_type": "code",
   "execution_count": null,
   "metadata": {
    "collapsed": true
   },
   "outputs": [],
   "source": [
    "import pandas as pd"
   ]
  },
  {
   "cell_type": "code",
   "execution_count": null,
   "metadata": {
    "collapsed": true
   },
   "outputs": [],
   "source": [
    "def corr(df, step = len(df.columns), mask_diagonal=False):\n",
    "\n",
    "    n = df.shape[0]\n",
    "\n",
    "    def corr_closure(df):\n",
    "        d = df.values\n",
    "        sums = d.sum(0, keepdims=True)\n",
    "        stds = d.std(0, keepdims=True)\n",
    "\n",
    "        def corr_(k=0, l=10):\n",
    "            d2 = d.T.dot(d[:, k:l])\n",
    "            sums2 = sums.T.dot(sums[:, k:l])\n",
    "            stds2 = stds.T.dot(stds[:, k:l])\n",
    "\n",
    "            return pd.DataFrame((d2 - sums2 / n) / stds2 / n,\n",
    "                                df.columns, df.columns[k:l])\n",
    "\n",
    "        return corr_\n",
    "\n",
    "    c = corr_closure(df)\n",
    "\n",
    "    step = min(step, df.shape[1])\n",
    "\n",
    "    tups = zip(range(0, n, step), range(step, n + step, step))\n",
    "\n",
    "    corr_table = pd.concat([c(*t) for t in tups], axis=1)\n",
    "\n",
    "    if mask_diagonal:\n",
    "        np.fill_diagonal(corr_table.values, np.nan)\n",
    "\n",
    "    return corr_table"
   ]
  }
 ],
 "metadata": {
  "kernelspec": {
   "display_name": "Python 3",
   "language": "python",
   "name": "python3"
  },
  "language_info": {
   "codemirror_mode": {
    "name": "ipython",
    "version": 3
   },
   "file_extension": ".py",
   "mimetype": "text/x-python",
   "name": "python",
   "nbconvert_exporter": "python",
   "pygments_lexer": "ipython3",
   "version": "3.4.4"
  }
 },
 "nbformat": 4,
 "nbformat_minor": 0
}
