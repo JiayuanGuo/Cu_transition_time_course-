{
 "cells": [
  {
   "cell_type": "code",
   "execution_count": 31,
   "metadata": {
    "collapsed": false
   },
   "outputs": [],
   "source": [
    "import pandas as pd\n",
    "import re #regular expression matching for removing unwanted columns by name\n",
    "import natsort as ns #3rd party package for natural sorting\n",
    "\n",
    "import matplotlib.pyplot as plt \n",
    "%matplotlib inline"
   ]
  },
  {
   "cell_type": "code",
   "execution_count": 2,
   "metadata": {
    "collapsed": false
   },
   "outputs": [],
   "source": [
    "df0_raw = pd.read_csv(\"5G_count_all.tsv\", sep = '\\t')"
   ]
  },
  {
   "cell_type": "markdown",
   "metadata": {},
   "source": [
    "# Removing columns\n",
    "\n",
    "Need to remove the following columns manually \n",
    "\n",
    "[total, ribo0, br1_QC, br2_QC] - these dont exist in the dataframe \n",
    "\n",
    "[5GB1_ferm_WT_QC, 5GB1_ferm_Ack_QC, 5GB1C_latelog_vial_TR2_QC, 5GB1_FM58_Td20h_TR1_QC, 5GB1_FM58_Td32h_TR3_QC, 5GB1_LTrecycle_TR1_QC, 5GB1_LTrecycle_TR1,\n",
    "5GB1_vial_wLa_TR3, 5GB1_vial_woLa_TR2]\n",
    "\n",
    "Need to remove all QC runs except FM34 which we will keep"
   ]
  },
  {
   "cell_type": "code",
   "execution_count": 3,
   "metadata": {
    "collapsed": false
   },
   "outputs": [],
   "source": [
    "to_remove = [\"5GB1_ferm_WT_QC\", \"5GB1_ferm_Ack_QC\", \"5GB1C_latelog_vial_TR2_QC\", \n",
    "             \"5GB1_FM58_Td20h_TR1_QC\", \"5GB1_FM58_Td32h_TR3_QC\", \"5GB1_LTrecycle_TR1_QC\", \"5GB1_LTrecycle_TR1\",\n",
    "             \"5GB1_vial_wLa_TR3\", \"5GB1_vial_woLa_TR2\"] "
   ]
  },
  {
   "cell_type": "code",
   "execution_count": 4,
   "metadata": {
    "collapsed": false
   },
   "outputs": [],
   "source": [
    "#manually removing some unwanted columns \n",
    "df1_raw_filtered = df0_raw.drop(df0_raw.loc[:,to_remove].columns, axis = 1)\n",
    "#Isolating FM34 - Cu transition 3+ hours \n",
    "df1a_FM34_only = df1_raw_filtered.select(lambda x: re.search(\"FM34\", x), axis=1)\n",
    "#Removing all QC runs \n",
    "df1_raw_filtered = df1_raw_filtered.select(lambda x: not re.search(\"QC\", x), axis=1)\n"
   ]
  },
  {
   "cell_type": "code",
   "execution_count": 5,
   "metadata": {
    "collapsed": false
   },
   "outputs": [],
   "source": [
    "#naturally sorting the filtered columns\n",
    "to_sort = df1_raw_filtered.loc[:,\"5GB1_FM69_t2_TR1\":]\n",
    "\n",
    "cols = list(ns.natsorted(to_sort.columns))\n",
    "cols_sorted = to_sort[cols]\n",
    "\n",
    "#adding descriptive columns\n",
    "qualitative = df1_raw_filtered.loc[:, \"locus_tag\":\"translation\"]\n",
    "df1b_filtered_sorted = pd.concat([qualitative, cols_sorted], axis=1)\n",
    "\n",
    "#isolating FM40 (to be added back later for particular order )\n",
    "df1b_FM40_only = df1b_filtered_sorted.select(lambda x: re.search(\"FM40\", x), axis=1)\n",
    "\n",
    "#removing FM40 (to be added right back at the end)\n",
    "df1b_filtered_sorted = df1b_filtered_sorted.select(lambda x: not re.search(\"FM40\", x), axis=1)\n",
    "\n",
    "#Adding FM40\n",
    "cleaned_up = pd.concat([df1b_filtered_sorted, df1b_FM40_only], axis=1)\n",
    "\n",
    "#adding FM34\n",
    "df2_cleaned_up = pd.concat([cleaned_up, df1a_FM34_only], axis=1)\n",
    "\n",
    "#setting locus tag as index\n",
    "df2_cleaned_up = df2_cleaned_up.set_index(\"locus_tag\")"
   ]
  },
  {
   "cell_type": "code",
   "execution_count": 6,
   "metadata": {
    "collapsed": false
   },
   "outputs": [
    {
     "data": {
      "text/html": [
       "<div>\n",
       "<table border=\"1\" class=\"dataframe\">\n",
       "  <thead>\n",
       "    <tr style=\"text-align: right;\">\n",
       "      <th></th>\n",
       "      <th>product</th>\n",
       "      <th>type</th>\n",
       "      <th>gene_symbol</th>\n",
       "      <th>locus</th>\n",
       "      <th>start_coord</th>\n",
       "      <th>end_coord</th>\n",
       "      <th>note</th>\n",
       "      <th>translation</th>\n",
       "      <th>5GB1_FM12_TR1</th>\n",
       "      <th>5GB1_FM12_TR2</th>\n",
       "      <th>...</th>\n",
       "      <th>5GB1_FM40_T90m_TR2</th>\n",
       "      <th>5GB1_FM40_T150m_TR1_remake</th>\n",
       "      <th>5GB1_FM40_T180m_TR1</th>\n",
       "      <th>5GB1_FM34_T0_TR1_QC</th>\n",
       "      <th>5GB1_FM34_T3_TR3_QC</th>\n",
       "      <th>5GB1_FM34_T4_TR3_QC</th>\n",
       "      <th>5GB1_FM34_T5_TR2_QC</th>\n",
       "      <th>5GB1_FM34_T6_TR3_QC</th>\n",
       "      <th>5GB1_FM34_T7_TR3_QC</th>\n",
       "      <th>5GB1_FM34_T8_TR1_QC</th>\n",
       "    </tr>\n",
       "    <tr>\n",
       "      <th>locus_tag</th>\n",
       "      <th></th>\n",
       "      <th></th>\n",
       "      <th></th>\n",
       "      <th></th>\n",
       "      <th></th>\n",
       "      <th></th>\n",
       "      <th></th>\n",
       "      <th></th>\n",
       "      <th></th>\n",
       "      <th></th>\n",
       "      <th></th>\n",
       "      <th></th>\n",
       "      <th></th>\n",
       "      <th></th>\n",
       "      <th></th>\n",
       "      <th></th>\n",
       "      <th></th>\n",
       "      <th></th>\n",
       "      <th></th>\n",
       "      <th></th>\n",
       "      <th></th>\n",
       "    </tr>\n",
       "  </thead>\n",
       "  <tbody>\n",
       "    <tr>\n",
       "      <th>MBURv2_100001</th>\n",
       "      <td>conserved protein of unknown function</td>\n",
       "      <td>CDS</td>\n",
       "      <td>NaN</td>\n",
       "      <td>MBURv2</td>\n",
       "      <td>1965161</td>\n",
       "      <td>1965952</td>\n",
       "      <td>Evidence 4 : Homologs of previously reported g...</td>\n",
       "      <td>NaN</td>\n",
       "      <td>1913</td>\n",
       "      <td>1700</td>\n",
       "      <td>...</td>\n",
       "      <td>294</td>\n",
       "      <td>852</td>\n",
       "      <td>322</td>\n",
       "      <td>118</td>\n",
       "      <td>111</td>\n",
       "      <td>100</td>\n",
       "      <td>90</td>\n",
       "      <td>56</td>\n",
       "      <td>117</td>\n",
       "      <td>124</td>\n",
       "    </tr>\n",
       "    <tr>\n",
       "      <th>MBURv2_100002</th>\n",
       "      <td>conserved protein of unknown function</td>\n",
       "      <td>CDS</td>\n",
       "      <td>NaN</td>\n",
       "      <td>MBURv2</td>\n",
       "      <td>1966190</td>\n",
       "      <td>1966369</td>\n",
       "      <td>Evidence 4 : Homologs of previously reported g...</td>\n",
       "      <td>NaN</td>\n",
       "      <td>177</td>\n",
       "      <td>161</td>\n",
       "      <td>...</td>\n",
       "      <td>18</td>\n",
       "      <td>40</td>\n",
       "      <td>16</td>\n",
       "      <td>5</td>\n",
       "      <td>3</td>\n",
       "      <td>4</td>\n",
       "      <td>4</td>\n",
       "      <td>1</td>\n",
       "      <td>10</td>\n",
       "      <td>3</td>\n",
       "    </tr>\n",
       "    <tr>\n",
       "      <th>MBURv2_100003</th>\n",
       "      <td>protein of unknown function</td>\n",
       "      <td>CDS</td>\n",
       "      <td>NaN</td>\n",
       "      <td>MBURv2</td>\n",
       "      <td>1966931</td>\n",
       "      <td>1967041</td>\n",
       "      <td>Evidence 5 : No homology to any previously rep...</td>\n",
       "      <td>NaN</td>\n",
       "      <td>54</td>\n",
       "      <td>47</td>\n",
       "      <td>...</td>\n",
       "      <td>6</td>\n",
       "      <td>30</td>\n",
       "      <td>2</td>\n",
       "      <td>5</td>\n",
       "      <td>3</td>\n",
       "      <td>3</td>\n",
       "      <td>2</td>\n",
       "      <td>0</td>\n",
       "      <td>2</td>\n",
       "      <td>0</td>\n",
       "    </tr>\n",
       "    <tr>\n",
       "      <th>MBURv2_10001</th>\n",
       "      <td>protein of unknown function</td>\n",
       "      <td>CDS</td>\n",
       "      <td>NaN</td>\n",
       "      <td>MBURv2</td>\n",
       "      <td>116</td>\n",
       "      <td>289</td>\n",
       "      <td>Evidence 5 : No homology to any previously rep...</td>\n",
       "      <td>NaN</td>\n",
       "      <td>349</td>\n",
       "      <td>319</td>\n",
       "      <td>...</td>\n",
       "      <td>38</td>\n",
       "      <td>87</td>\n",
       "      <td>25</td>\n",
       "      <td>6</td>\n",
       "      <td>9</td>\n",
       "      <td>23</td>\n",
       "      <td>6</td>\n",
       "      <td>5</td>\n",
       "      <td>9</td>\n",
       "      <td>8</td>\n",
       "    </tr>\n",
       "    <tr>\n",
       "      <th>MBURv2_10002</th>\n",
       "      <td>KfrB</td>\n",
       "      <td>CDS</td>\n",
       "      <td>kfrB</td>\n",
       "      <td>MBURv2</td>\n",
       "      <td>497</td>\n",
       "      <td>844</td>\n",
       "      <td>NaN</td>\n",
       "      <td>NaN</td>\n",
       "      <td>1833</td>\n",
       "      <td>1199</td>\n",
       "      <td>...</td>\n",
       "      <td>667</td>\n",
       "      <td>1497</td>\n",
       "      <td>707</td>\n",
       "      <td>290</td>\n",
       "      <td>277</td>\n",
       "      <td>196</td>\n",
       "      <td>173</td>\n",
       "      <td>132</td>\n",
       "      <td>192</td>\n",
       "      <td>241</td>\n",
       "    </tr>\n",
       "  </tbody>\n",
       "</table>\n",
       "<p>5 rows × 50 columns</p>\n",
       "</div>"
      ],
      "text/plain": [
       "                                             product type gene_symbol   locus  \\\n",
       "locus_tag                                                                       \n",
       "MBURv2_100001  conserved protein of unknown function  CDS         NaN  MBURv2   \n",
       "MBURv2_100002  conserved protein of unknown function  CDS         NaN  MBURv2   \n",
       "MBURv2_100003            protein of unknown function  CDS         NaN  MBURv2   \n",
       "MBURv2_10001             protein of unknown function  CDS         NaN  MBURv2   \n",
       "MBURv2_10002                                    KfrB  CDS        kfrB  MBURv2   \n",
       "\n",
       "               start_coord  end_coord  \\\n",
       "locus_tag                               \n",
       "MBURv2_100001      1965161    1965952   \n",
       "MBURv2_100002      1966190    1966369   \n",
       "MBURv2_100003      1966931    1967041   \n",
       "MBURv2_10001           116        289   \n",
       "MBURv2_10002           497        844   \n",
       "\n",
       "                                                            note  translation  \\\n",
       "locus_tag                                                                       \n",
       "MBURv2_100001  Evidence 4 : Homologs of previously reported g...          NaN   \n",
       "MBURv2_100002  Evidence 4 : Homologs of previously reported g...          NaN   \n",
       "MBURv2_100003  Evidence 5 : No homology to any previously rep...          NaN   \n",
       "MBURv2_10001   Evidence 5 : No homology to any previously rep...          NaN   \n",
       "MBURv2_10002                                                 NaN          NaN   \n",
       "\n",
       "               5GB1_FM12_TR1  5GB1_FM12_TR2         ...           \\\n",
       "locus_tag                                           ...            \n",
       "MBURv2_100001           1913           1700         ...            \n",
       "MBURv2_100002            177            161         ...            \n",
       "MBURv2_100003             54             47         ...            \n",
       "MBURv2_10001             349            319         ...            \n",
       "MBURv2_10002            1833           1199         ...            \n",
       "\n",
       "               5GB1_FM40_T90m_TR2  5GB1_FM40_T150m_TR1_remake  \\\n",
       "locus_tag                                                       \n",
       "MBURv2_100001                 294                         852   \n",
       "MBURv2_100002                  18                          40   \n",
       "MBURv2_100003                   6                          30   \n",
       "MBURv2_10001                   38                          87   \n",
       "MBURv2_10002                  667                        1497   \n",
       "\n",
       "               5GB1_FM40_T180m_TR1  5GB1_FM34_T0_TR1_QC  5GB1_FM34_T3_TR3_QC  \\\n",
       "locus_tag                                                                      \n",
       "MBURv2_100001                  322                  118                  111   \n",
       "MBURv2_100002                   16                    5                    3   \n",
       "MBURv2_100003                    2                    5                    3   \n",
       "MBURv2_10001                    25                    6                    9   \n",
       "MBURv2_10002                   707                  290                  277   \n",
       "\n",
       "               5GB1_FM34_T4_TR3_QC  5GB1_FM34_T5_TR2_QC  5GB1_FM34_T6_TR3_QC  \\\n",
       "locus_tag                                                                      \n",
       "MBURv2_100001                  100                   90                   56   \n",
       "MBURv2_100002                    4                    4                    1   \n",
       "MBURv2_100003                    3                    2                    0   \n",
       "MBURv2_10001                    23                    6                    5   \n",
       "MBURv2_10002                   196                  173                  132   \n",
       "\n",
       "               5GB1_FM34_T7_TR3_QC  5GB1_FM34_T8_TR1_QC  \n",
       "locus_tag                                                \n",
       "MBURv2_100001                  117                  124  \n",
       "MBURv2_100002                   10                    3  \n",
       "MBURv2_100003                    2                    0  \n",
       "MBURv2_10001                     9                    8  \n",
       "MBURv2_10002                   192                  241  \n",
       "\n",
       "[5 rows x 50 columns]"
      ]
     },
     "execution_count": 6,
     "metadata": {},
     "output_type": "execute_result"
    }
   ],
   "source": [
    "df2_cleaned_up.head()"
   ]
  },
  {
   "cell_type": "markdown",
   "metadata": {},
   "source": [
    "# Running TPM function on all the data columns\n"
   ]
  },
  {
   "cell_type": "code",
   "execution_count": 7,
   "metadata": {
    "collapsed": false
   },
   "outputs": [
    {
     "name": "stdout",
     "output_type": "stream",
     "text": [
      "/Users/alexeygilman/repos/Cu_transition_time_course-/executible\n"
     ]
    }
   ],
   "source": [
    "cd executible/"
   ]
  },
  {
   "cell_type": "code",
   "execution_count": 8,
   "metadata": {
    "collapsed": false
   },
   "outputs": [],
   "source": [
    "%run Cu_transition_functionalized.py"
   ]
  },
  {
   "cell_type": "code",
   "execution_count": 9,
   "metadata": {
    "collapsed": false
   },
   "outputs": [],
   "source": [
    "columns = df2_cleaned_up.loc[:,\"5GB1_FM12_TR1\":].columns\n",
    "df3_TPM = TPM_counts(df2_cleaned_up,\"start_coord\",\"end_coord\",columns)"
   ]
  },
  {
   "cell_type": "code",
   "execution_count": 10,
   "metadata": {
    "collapsed": false
   },
   "outputs": [
    {
     "data": {
      "text/html": [
       "<div>\n",
       "<table border=\"1\" class=\"dataframe\">\n",
       "  <thead>\n",
       "    <tr style=\"text-align: right;\">\n",
       "      <th></th>\n",
       "      <th>start_coord</th>\n",
       "      <th>end_coord</th>\n",
       "      <th>translation</th>\n",
       "      <th>5GB1_FM12_TR1</th>\n",
       "      <th>5GB1_FM12_TR2</th>\n",
       "      <th>5GB1_FM14_TR1</th>\n",
       "      <th>5GB1_FM14_TR2</th>\n",
       "      <th>5GB1_FM18_TR2</th>\n",
       "      <th>5GB1_FM18_TR3</th>\n",
       "      <th>5GB1_FM19_TR1</th>\n",
       "      <th>...</th>\n",
       "      <th>5GB1_FM40_T90m_TR2</th>\n",
       "      <th>5GB1_FM40_T150m_TR1_remake</th>\n",
       "      <th>5GB1_FM40_T180m_TR1</th>\n",
       "      <th>5GB1_FM34_T0_TR1_QC</th>\n",
       "      <th>5GB1_FM34_T3_TR3_QC</th>\n",
       "      <th>5GB1_FM34_T4_TR3_QC</th>\n",
       "      <th>5GB1_FM34_T5_TR2_QC</th>\n",
       "      <th>5GB1_FM34_T6_TR3_QC</th>\n",
       "      <th>5GB1_FM34_T7_TR3_QC</th>\n",
       "      <th>5GB1_FM34_T8_TR1_QC</th>\n",
       "    </tr>\n",
       "  </thead>\n",
       "  <tbody>\n",
       "    <tr>\n",
       "      <th>count</th>\n",
       "      <td>4410.000000</td>\n",
       "      <td>4410.000000</td>\n",
       "      <td>0</td>\n",
       "      <td>4410.000000</td>\n",
       "      <td>4410.000000</td>\n",
       "      <td>4410.000000</td>\n",
       "      <td>4410.000000</td>\n",
       "      <td>4410.000000</td>\n",
       "      <td>4410.000000</td>\n",
       "      <td>4410.000000</td>\n",
       "      <td>...</td>\n",
       "      <td>4410.000000</td>\n",
       "      <td>4410.000000</td>\n",
       "      <td>4410.000000</td>\n",
       "      <td>4410.000000</td>\n",
       "      <td>4410.000000</td>\n",
       "      <td>4410.000000</td>\n",
       "      <td>4410.000000</td>\n",
       "      <td>4410.000000</td>\n",
       "      <td>4410.000000</td>\n",
       "      <td>4410.000000</td>\n",
       "    </tr>\n",
       "    <tr>\n",
       "      <th>mean</th>\n",
       "      <td>2523912.507710</td>\n",
       "      <td>2524848.262585</td>\n",
       "      <td>NaN</td>\n",
       "      <td>226.699899</td>\n",
       "      <td>226.695346</td>\n",
       "      <td>226.697112</td>\n",
       "      <td>226.704348</td>\n",
       "      <td>226.594462</td>\n",
       "      <td>226.614222</td>\n",
       "      <td>226.653431</td>\n",
       "      <td>...</td>\n",
       "      <td>226.688681</td>\n",
       "      <td>226.691177</td>\n",
       "      <td>226.693393</td>\n",
       "      <td>226.703354</td>\n",
       "      <td>226.700279</td>\n",
       "      <td>226.705513</td>\n",
       "      <td>226.700812</td>\n",
       "      <td>226.707496</td>\n",
       "      <td>226.690055</td>\n",
       "      <td>226.701056</td>\n",
       "    </tr>\n",
       "    <tr>\n",
       "      <th>std</th>\n",
       "      <td>1471366.679738</td>\n",
       "      <td>1471365.070314</td>\n",
       "      <td>NaN</td>\n",
       "      <td>2608.104118</td>\n",
       "      <td>2618.586261</td>\n",
       "      <td>2226.261750</td>\n",
       "      <td>2589.462563</td>\n",
       "      <td>1246.618739</td>\n",
       "      <td>1229.043510</td>\n",
       "      <td>1759.623610</td>\n",
       "      <td>...</td>\n",
       "      <td>1219.717871</td>\n",
       "      <td>1122.334667</td>\n",
       "      <td>1333.858585</td>\n",
       "      <td>1243.151858</td>\n",
       "      <td>1371.191334</td>\n",
       "      <td>1304.612055</td>\n",
       "      <td>1417.656243</td>\n",
       "      <td>1345.465894</td>\n",
       "      <td>1377.544663</td>\n",
       "      <td>1278.153592</td>\n",
       "    </tr>\n",
       "    <tr>\n",
       "      <th>min</th>\n",
       "      <td>116.000000</td>\n",
       "      <td>289.000000</td>\n",
       "      <td>NaN</td>\n",
       "      <td>0.128012</td>\n",
       "      <td>0.130699</td>\n",
       "      <td>0.303466</td>\n",
       "      <td>0.201181</td>\n",
       "      <td>0.235129</td>\n",
       "      <td>0.955192</td>\n",
       "      <td>0.425168</td>\n",
       "      <td>...</td>\n",
       "      <td>0.296514</td>\n",
       "      <td>0.495039</td>\n",
       "      <td>0.375090</td>\n",
       "      <td>0.455466</td>\n",
       "      <td>0.237590</td>\n",
       "      <td>0.114161</td>\n",
       "      <td>0.298391</td>\n",
       "      <td>0.263617</td>\n",
       "      <td>0.493421</td>\n",
       "      <td>0.252605</td>\n",
       "    </tr>\n",
       "    <tr>\n",
       "      <th>25%</th>\n",
       "      <td>1228352.750000</td>\n",
       "      <td>1230090.250000</td>\n",
       "      <td>NaN</td>\n",
       "      <td>23.920135</td>\n",
       "      <td>24.641320</td>\n",
       "      <td>25.954707</td>\n",
       "      <td>22.500866</td>\n",
       "      <td>43.295853</td>\n",
       "      <td>42.741254</td>\n",
       "      <td>26.266172</td>\n",
       "      <td>...</td>\n",
       "      <td>25.257989</td>\n",
       "      <td>26.315396</td>\n",
       "      <td>23.273639</td>\n",
       "      <td>25.932829</td>\n",
       "      <td>23.236787</td>\n",
       "      <td>24.509591</td>\n",
       "      <td>24.886934</td>\n",
       "      <td>24.752124</td>\n",
       "      <td>26.245040</td>\n",
       "      <td>25.814103</td>\n",
       "    </tr>\n",
       "    <tr>\n",
       "      <th>50%</th>\n",
       "      <td>2563815.000000</td>\n",
       "      <td>2564586.500000</td>\n",
       "      <td>NaN</td>\n",
       "      <td>51.965185</td>\n",
       "      <td>53.158422</td>\n",
       "      <td>57.974121</td>\n",
       "      <td>50.919943</td>\n",
       "      <td>83.877066</td>\n",
       "      <td>82.371945</td>\n",
       "      <td>57.175220</td>\n",
       "      <td>...</td>\n",
       "      <td>56.834464</td>\n",
       "      <td>58.201296</td>\n",
       "      <td>54.005551</td>\n",
       "      <td>57.905411</td>\n",
       "      <td>53.720495</td>\n",
       "      <td>55.809776</td>\n",
       "      <td>58.072669</td>\n",
       "      <td>59.395058</td>\n",
       "      <td>60.596720</td>\n",
       "      <td>61.800981</td>\n",
       "    </tr>\n",
       "    <tr>\n",
       "      <th>75%</th>\n",
       "      <td>3796009.000000</td>\n",
       "      <td>3796603.500000</td>\n",
       "      <td>NaN</td>\n",
       "      <td>109.742344</td>\n",
       "      <td>112.290835</td>\n",
       "      <td>123.777013</td>\n",
       "      <td>110.262018</td>\n",
       "      <td>162.001032</td>\n",
       "      <td>162.020610</td>\n",
       "      <td>120.513737</td>\n",
       "      <td>...</td>\n",
       "      <td>123.293527</td>\n",
       "      <td>129.071912</td>\n",
       "      <td>116.656100</td>\n",
       "      <td>124.025563</td>\n",
       "      <td>119.158968</td>\n",
       "      <td>125.158461</td>\n",
       "      <td>128.858717</td>\n",
       "      <td>130.436563</td>\n",
       "      <td>131.790463</td>\n",
       "      <td>134.177414</td>\n",
       "    </tr>\n",
       "    <tr>\n",
       "      <th>max</th>\n",
       "      <td>5066062.000000</td>\n",
       "      <td>5067294.000000</td>\n",
       "      <td>NaN</td>\n",
       "      <td>102291.663448</td>\n",
       "      <td>105614.890872</td>\n",
       "      <td>95689.662164</td>\n",
       "      <td>109973.088035</td>\n",
       "      <td>58854.542337</td>\n",
       "      <td>64511.010158</td>\n",
       "      <td>70926.914449</td>\n",
       "      <td>...</td>\n",
       "      <td>45789.636731</td>\n",
       "      <td>34735.533389</td>\n",
       "      <td>55623.888672</td>\n",
       "      <td>34926.035642</td>\n",
       "      <td>57022.329800</td>\n",
       "      <td>52977.343258</td>\n",
       "      <td>61079.897898</td>\n",
       "      <td>57365.249426</td>\n",
       "      <td>58854.913465</td>\n",
       "      <td>52180.163782</td>\n",
       "    </tr>\n",
       "  </tbody>\n",
       "</table>\n",
       "<p>8 rows × 45 columns</p>\n",
       "</div>"
      ],
      "text/plain": [
       "          start_coord       end_coord  translation  5GB1_FM12_TR1  \\\n",
       "count     4410.000000     4410.000000            0    4410.000000   \n",
       "mean   2523912.507710  2524848.262585          NaN     226.699899   \n",
       "std    1471366.679738  1471365.070314          NaN    2608.104118   \n",
       "min        116.000000      289.000000          NaN       0.128012   \n",
       "25%    1228352.750000  1230090.250000          NaN      23.920135   \n",
       "50%    2563815.000000  2564586.500000          NaN      51.965185   \n",
       "75%    3796009.000000  3796603.500000          NaN     109.742344   \n",
       "max    5066062.000000  5067294.000000          NaN  102291.663448   \n",
       "\n",
       "       5GB1_FM12_TR2  5GB1_FM14_TR1  5GB1_FM14_TR2  5GB1_FM18_TR2  \\\n",
       "count    4410.000000    4410.000000    4410.000000    4410.000000   \n",
       "mean      226.695346     226.697112     226.704348     226.594462   \n",
       "std      2618.586261    2226.261750    2589.462563    1246.618739   \n",
       "min         0.130699       0.303466       0.201181       0.235129   \n",
       "25%        24.641320      25.954707      22.500866      43.295853   \n",
       "50%        53.158422      57.974121      50.919943      83.877066   \n",
       "75%       112.290835     123.777013     110.262018     162.001032   \n",
       "max    105614.890872   95689.662164  109973.088035   58854.542337   \n",
       "\n",
       "       5GB1_FM18_TR3  5GB1_FM19_TR1         ...           5GB1_FM40_T90m_TR2  \\\n",
       "count    4410.000000    4410.000000         ...                  4410.000000   \n",
       "mean      226.614222     226.653431         ...                   226.688681   \n",
       "std      1229.043510    1759.623610         ...                  1219.717871   \n",
       "min         0.955192       0.425168         ...                     0.296514   \n",
       "25%        42.741254      26.266172         ...                    25.257989   \n",
       "50%        82.371945      57.175220         ...                    56.834464   \n",
       "75%       162.020610     120.513737         ...                   123.293527   \n",
       "max     64511.010158   70926.914449         ...                 45789.636731   \n",
       "\n",
       "       5GB1_FM40_T150m_TR1_remake  5GB1_FM40_T180m_TR1  5GB1_FM34_T0_TR1_QC  \\\n",
       "count                 4410.000000          4410.000000          4410.000000   \n",
       "mean                   226.691177           226.693393           226.703354   \n",
       "std                   1122.334667          1333.858585          1243.151858   \n",
       "min                      0.495039             0.375090             0.455466   \n",
       "25%                     26.315396            23.273639            25.932829   \n",
       "50%                     58.201296            54.005551            57.905411   \n",
       "75%                    129.071912           116.656100           124.025563   \n",
       "max                  34735.533389         55623.888672         34926.035642   \n",
       "\n",
       "       5GB1_FM34_T3_TR3_QC  5GB1_FM34_T4_TR3_QC  5GB1_FM34_T5_TR2_QC  \\\n",
       "count          4410.000000          4410.000000          4410.000000   \n",
       "mean            226.700279           226.705513           226.700812   \n",
       "std            1371.191334          1304.612055          1417.656243   \n",
       "min               0.237590             0.114161             0.298391   \n",
       "25%              23.236787            24.509591            24.886934   \n",
       "50%              53.720495            55.809776            58.072669   \n",
       "75%             119.158968           125.158461           128.858717   \n",
       "max           57022.329800         52977.343258         61079.897898   \n",
       "\n",
       "       5GB1_FM34_T6_TR3_QC  5GB1_FM34_T7_TR3_QC  5GB1_FM34_T8_TR1_QC  \n",
       "count          4410.000000          4410.000000          4410.000000  \n",
       "mean            226.707496           226.690055           226.701056  \n",
       "std            1345.465894          1377.544663          1278.153592  \n",
       "min               0.263617             0.493421             0.252605  \n",
       "25%              24.752124            26.245040            25.814103  \n",
       "50%              59.395058            60.596720            61.800981  \n",
       "75%             130.436563           131.790463           134.177414  \n",
       "max           57365.249426         58854.913465         52180.163782  \n",
       "\n",
       "[8 rows x 45 columns]"
      ]
     },
     "execution_count": 10,
     "metadata": {},
     "output_type": "execute_result"
    }
   ],
   "source": [
    "df3_TPM.describe()"
   ]
  },
  {
   "cell_type": "markdown",
   "metadata": {},
   "source": [
    "# Log 2 transform the data"
   ]
  },
  {
   "cell_type": "code",
   "execution_count": 11,
   "metadata": {
    "collapsed": true
   },
   "outputs": [],
   "source": [
    "df4_log2 = log_2_transform(df3_TPM,'5GB1_FM12_TR1','5GB1_FM34_T8_TR1_QC')"
   ]
  },
  {
   "cell_type": "code",
   "execution_count": 12,
   "metadata": {
    "collapsed": false
   },
   "outputs": [
    {
     "data": {
      "text/html": [
       "<div>\n",
       "<table border=\"1\" class=\"dataframe\">\n",
       "  <thead>\n",
       "    <tr style=\"text-align: right;\">\n",
       "      <th></th>\n",
       "      <th>5GB1_FM12_TR1</th>\n",
       "      <th>5GB1_FM12_TR2</th>\n",
       "      <th>5GB1_FM14_TR1</th>\n",
       "      <th>5GB1_FM14_TR2</th>\n",
       "      <th>5GB1_FM18_TR2</th>\n",
       "      <th>5GB1_FM18_TR3</th>\n",
       "      <th>5GB1_FM19_TR1</th>\n",
       "      <th>5GB1_FM19_TR1_UW</th>\n",
       "      <th>5GB1_FM19_TR3</th>\n",
       "      <th>5GB1_FM20_TR3</th>\n",
       "      <th>...</th>\n",
       "      <th>5GB1_FM40_T90m_TR2</th>\n",
       "      <th>5GB1_FM40_T150m_TR1_remake</th>\n",
       "      <th>5GB1_FM40_T180m_TR1</th>\n",
       "      <th>5GB1_FM34_T0_TR1_QC</th>\n",
       "      <th>5GB1_FM34_T3_TR3_QC</th>\n",
       "      <th>5GB1_FM34_T4_TR3_QC</th>\n",
       "      <th>5GB1_FM34_T5_TR2_QC</th>\n",
       "      <th>5GB1_FM34_T6_TR3_QC</th>\n",
       "      <th>5GB1_FM34_T7_TR3_QC</th>\n",
       "      <th>5GB1_FM34_T8_TR1_QC</th>\n",
       "    </tr>\n",
       "  </thead>\n",
       "  <tbody>\n",
       "    <tr>\n",
       "      <th>count</th>\n",
       "      <td>4410.000000</td>\n",
       "      <td>4410.000000</td>\n",
       "      <td>4410.000000</td>\n",
       "      <td>4410.000000</td>\n",
       "      <td>4410.000000</td>\n",
       "      <td>4410.000000</td>\n",
       "      <td>4410.000000</td>\n",
       "      <td>4410.000000</td>\n",
       "      <td>4410.000000</td>\n",
       "      <td>4410.000000</td>\n",
       "      <td>...</td>\n",
       "      <td>4410.000000</td>\n",
       "      <td>4410.000000</td>\n",
       "      <td>4410.000000</td>\n",
       "      <td>4410.000000</td>\n",
       "      <td>4410.000000</td>\n",
       "      <td>4410.000000</td>\n",
       "      <td>4410.000000</td>\n",
       "      <td>4410.000000</td>\n",
       "      <td>4410.000000</td>\n",
       "      <td>4410.000000</td>\n",
       "    </tr>\n",
       "    <tr>\n",
       "      <th>mean</th>\n",
       "      <td>5.711915</td>\n",
       "      <td>5.741699</td>\n",
       "      <td>5.854974</td>\n",
       "      <td>5.685472</td>\n",
       "      <td>6.408118</td>\n",
       "      <td>6.397127</td>\n",
       "      <td>5.912669</td>\n",
       "      <td>5.895753</td>\n",
       "      <td>5.899650</td>\n",
       "      <td>6.172266</td>\n",
       "      <td>...</td>\n",
       "      <td>5.892627</td>\n",
       "      <td>5.939207</td>\n",
       "      <td>5.822109</td>\n",
       "      <td>5.891138</td>\n",
       "      <td>5.810324</td>\n",
       "      <td>5.867605</td>\n",
       "      <td>5.896775</td>\n",
       "      <td>5.893200</td>\n",
       "      <td>5.951252</td>\n",
       "      <td>5.960253</td>\n",
       "    </tr>\n",
       "    <tr>\n",
       "      <th>std</th>\n",
       "      <td>1.899290</td>\n",
       "      <td>1.892151</td>\n",
       "      <td>1.915438</td>\n",
       "      <td>1.948127</td>\n",
       "      <td>1.712715</td>\n",
       "      <td>1.718178</td>\n",
       "      <td>1.865792</td>\n",
       "      <td>1.855358</td>\n",
       "      <td>1.838577</td>\n",
       "      <td>1.877034</td>\n",
       "      <td>...</td>\n",
       "      <td>1.971689</td>\n",
       "      <td>1.973475</td>\n",
       "      <td>2.003664</td>\n",
       "      <td>1.960701</td>\n",
       "      <td>2.025366</td>\n",
       "      <td>2.019438</td>\n",
       "      <td>2.021813</td>\n",
       "      <td>2.034819</td>\n",
       "      <td>1.982845</td>\n",
       "      <td>1.999880</td>\n",
       "    </tr>\n",
       "    <tr>\n",
       "      <th>min</th>\n",
       "      <td>0.000000</td>\n",
       "      <td>0.000000</td>\n",
       "      <td>0.000000</td>\n",
       "      <td>0.000000</td>\n",
       "      <td>0.000000</td>\n",
       "      <td>0.000000</td>\n",
       "      <td>0.000000</td>\n",
       "      <td>0.000000</td>\n",
       "      <td>0.000000</td>\n",
       "      <td>0.000000</td>\n",
       "      <td>...</td>\n",
       "      <td>0.000000</td>\n",
       "      <td>0.000000</td>\n",
       "      <td>0.000000</td>\n",
       "      <td>0.000000</td>\n",
       "      <td>0.000000</td>\n",
       "      <td>0.000000</td>\n",
       "      <td>0.000000</td>\n",
       "      <td>0.000000</td>\n",
       "      <td>0.000000</td>\n",
       "      <td>0.000000</td>\n",
       "    </tr>\n",
       "    <tr>\n",
       "      <th>25%</th>\n",
       "      <td>4.580154</td>\n",
       "      <td>4.623007</td>\n",
       "      <td>4.697924</td>\n",
       "      <td>4.491909</td>\n",
       "      <td>5.436157</td>\n",
       "      <td>5.417557</td>\n",
       "      <td>4.715134</td>\n",
       "      <td>4.732986</td>\n",
       "      <td>4.729698</td>\n",
       "      <td>4.988780</td>\n",
       "      <td>...</td>\n",
       "      <td>4.658668</td>\n",
       "      <td>4.717835</td>\n",
       "      <td>4.540624</td>\n",
       "      <td>4.696708</td>\n",
       "      <td>4.538339</td>\n",
       "      <td>4.615274</td>\n",
       "      <td>4.637316</td>\n",
       "      <td>4.629480</td>\n",
       "      <td>4.713973</td>\n",
       "      <td>4.690087</td>\n",
       "    </tr>\n",
       "    <tr>\n",
       "      <th>50%</th>\n",
       "      <td>5.699473</td>\n",
       "      <td>5.732226</td>\n",
       "      <td>5.857337</td>\n",
       "      <td>5.670159</td>\n",
       "      <td>6.390204</td>\n",
       "      <td>6.364081</td>\n",
       "      <td>5.837318</td>\n",
       "      <td>5.837747</td>\n",
       "      <td>5.842178</td>\n",
       "      <td>6.140328</td>\n",
       "      <td>...</td>\n",
       "      <td>5.828694</td>\n",
       "      <td>5.862979</td>\n",
       "      <td>5.755035</td>\n",
       "      <td>5.855626</td>\n",
       "      <td>5.747401</td>\n",
       "      <td>5.802446</td>\n",
       "      <td>5.859787</td>\n",
       "      <td>5.892270</td>\n",
       "      <td>5.921168</td>\n",
       "      <td>5.949558</td>\n",
       "    </tr>\n",
       "    <tr>\n",
       "      <th>75%</th>\n",
       "      <td>6.777976</td>\n",
       "      <td>6.811096</td>\n",
       "      <td>6.951600</td>\n",
       "      <td>6.784790</td>\n",
       "      <td>7.339859</td>\n",
       "      <td>7.340033</td>\n",
       "      <td>6.913054</td>\n",
       "      <td>6.893761</td>\n",
       "      <td>6.888171</td>\n",
       "      <td>7.209547</td>\n",
       "      <td>...</td>\n",
       "      <td>6.945953</td>\n",
       "      <td>7.012031</td>\n",
       "      <td>6.866118</td>\n",
       "      <td>6.954494</td>\n",
       "      <td>6.896744</td>\n",
       "      <td>6.967612</td>\n",
       "      <td>7.009646</td>\n",
       "      <td>7.027205</td>\n",
       "      <td>7.042102</td>\n",
       "      <td>7.067998</td>\n",
       "    </tr>\n",
       "    <tr>\n",
       "      <th>max</th>\n",
       "      <td>16.642329</td>\n",
       "      <td>16.688454</td>\n",
       "      <td>16.546075</td>\n",
       "      <td>16.746791</td>\n",
       "      <td>15.844866</td>\n",
       "      <td>15.977258</td>\n",
       "      <td>16.114046</td>\n",
       "      <td>16.573410</td>\n",
       "      <td>16.635053</td>\n",
       "      <td>15.420885</td>\n",
       "      <td>...</td>\n",
       "      <td>15.482733</td>\n",
       "      <td>15.084125</td>\n",
       "      <td>15.763417</td>\n",
       "      <td>15.092015</td>\n",
       "      <td>15.799239</td>\n",
       "      <td>15.693088</td>\n",
       "      <td>15.898410</td>\n",
       "      <td>15.807889</td>\n",
       "      <td>15.844875</td>\n",
       "      <td>15.671214</td>\n",
       "    </tr>\n",
       "  </tbody>\n",
       "</table>\n",
       "<p>8 rows × 42 columns</p>\n",
       "</div>"
      ],
      "text/plain": [
       "       5GB1_FM12_TR1  5GB1_FM12_TR2  5GB1_FM14_TR1  5GB1_FM14_TR2  \\\n",
       "count    4410.000000    4410.000000    4410.000000    4410.000000   \n",
       "mean        5.711915       5.741699       5.854974       5.685472   \n",
       "std         1.899290       1.892151       1.915438       1.948127   \n",
       "min         0.000000       0.000000       0.000000       0.000000   \n",
       "25%         4.580154       4.623007       4.697924       4.491909   \n",
       "50%         5.699473       5.732226       5.857337       5.670159   \n",
       "75%         6.777976       6.811096       6.951600       6.784790   \n",
       "max        16.642329      16.688454      16.546075      16.746791   \n",
       "\n",
       "       5GB1_FM18_TR2  5GB1_FM18_TR3  5GB1_FM19_TR1  5GB1_FM19_TR1_UW  \\\n",
       "count    4410.000000    4410.000000    4410.000000       4410.000000   \n",
       "mean        6.408118       6.397127       5.912669          5.895753   \n",
       "std         1.712715       1.718178       1.865792          1.855358   \n",
       "min         0.000000       0.000000       0.000000          0.000000   \n",
       "25%         5.436157       5.417557       4.715134          4.732986   \n",
       "50%         6.390204       6.364081       5.837318          5.837747   \n",
       "75%         7.339859       7.340033       6.913054          6.893761   \n",
       "max        15.844866      15.977258      16.114046         16.573410   \n",
       "\n",
       "       5GB1_FM19_TR3  5GB1_FM20_TR3         ...           5GB1_FM40_T90m_TR2  \\\n",
       "count    4410.000000    4410.000000         ...                  4410.000000   \n",
       "mean        5.899650       6.172266         ...                     5.892627   \n",
       "std         1.838577       1.877034         ...                     1.971689   \n",
       "min         0.000000       0.000000         ...                     0.000000   \n",
       "25%         4.729698       4.988780         ...                     4.658668   \n",
       "50%         5.842178       6.140328         ...                     5.828694   \n",
       "75%         6.888171       7.209547         ...                     6.945953   \n",
       "max        16.635053      15.420885         ...                    15.482733   \n",
       "\n",
       "       5GB1_FM40_T150m_TR1_remake  5GB1_FM40_T180m_TR1  5GB1_FM34_T0_TR1_QC  \\\n",
       "count                 4410.000000          4410.000000          4410.000000   \n",
       "mean                     5.939207             5.822109             5.891138   \n",
       "std                      1.973475             2.003664             1.960701   \n",
       "min                      0.000000             0.000000             0.000000   \n",
       "25%                      4.717835             4.540624             4.696708   \n",
       "50%                      5.862979             5.755035             5.855626   \n",
       "75%                      7.012031             6.866118             6.954494   \n",
       "max                     15.084125            15.763417            15.092015   \n",
       "\n",
       "       5GB1_FM34_T3_TR3_QC  5GB1_FM34_T4_TR3_QC  5GB1_FM34_T5_TR2_QC  \\\n",
       "count          4410.000000          4410.000000          4410.000000   \n",
       "mean              5.810324             5.867605             5.896775   \n",
       "std               2.025366             2.019438             2.021813   \n",
       "min               0.000000             0.000000             0.000000   \n",
       "25%               4.538339             4.615274             4.637316   \n",
       "50%               5.747401             5.802446             5.859787   \n",
       "75%               6.896744             6.967612             7.009646   \n",
       "max              15.799239            15.693088            15.898410   \n",
       "\n",
       "       5GB1_FM34_T6_TR3_QC  5GB1_FM34_T7_TR3_QC  5GB1_FM34_T8_TR1_QC  \n",
       "count          4410.000000          4410.000000          4410.000000  \n",
       "mean              5.893200             5.951252             5.960253  \n",
       "std               2.034819             1.982845             1.999880  \n",
       "min               0.000000             0.000000             0.000000  \n",
       "25%               4.629480             4.713973             4.690087  \n",
       "50%               5.892270             5.921168             5.949558  \n",
       "75%               7.027205             7.042102             7.067998  \n",
       "max              15.807889            15.844875            15.671214  \n",
       "\n",
       "[8 rows x 42 columns]"
      ]
     },
     "execution_count": 12,
     "metadata": {},
     "output_type": "execute_result"
    }
   ],
   "source": [
    "df4_log2.describe() "
   ]
  },
  {
   "cell_type": "markdown",
   "metadata": {},
   "source": [
    "# Taking log2 ratio (fm23 is the baseline)"
   ]
  },
  {
   "cell_type": "code",
   "execution_count": 13,
   "metadata": {
    "collapsed": false
   },
   "outputs": [],
   "source": [
    "df5_log2_ratio = df4_log2.subtract(df4_log2['5GB1_FM23_TR3'], axis = \"index\")"
   ]
  },
  {
   "cell_type": "code",
   "execution_count": 14,
   "metadata": {
    "collapsed": false
   },
   "outputs": [],
   "source": [
    "df5_log2_ratio = df5_log2_ratio.drop(['5GB1_FM23_TR3'], axis = 1)"
   ]
  },
  {
   "cell_type": "code",
   "execution_count": 15,
   "metadata": {
    "collapsed": false
   },
   "outputs": [
    {
     "data": {
      "text/plain": [
       "Index(['5GB1_FM12_TR1', '5GB1_FM12_TR2', '5GB1_FM14_TR1', '5GB1_FM14_TR2',\n",
       "       '5GB1_FM18_TR2', '5GB1_FM18_TR3', '5GB1_FM19_TR1', '5GB1_FM19_TR1_UW',\n",
       "       '5GB1_FM19_TR3', '5GB1_FM20_TR3', '5GB1_FM20_TR3_UW', '5GB1_FM21_TR1',\n",
       "       '5GB1_FM21_TR2', '5GB1_FM21_TR2_UW', '5GB1_FM22_TR1', '5GB1_FM22_TR3',\n",
       "       '5GB1_FM22_TR3_UW', '5GB1_FM69_t2_TR1', '5GB1_FM69_t3_TR1',\n",
       "       '5GB1_FM69_t3_TR1_UW', '5GB1_FM69_t4_TR1', '5GB1_FM69_t4_TR1_UW',\n",
       "       '5GB1_FM80_t2_TR1', '5GB1_FM80_t4_TR1', '5GB1_FM81_t1_TR3',\n",
       "       '5GB1_FM81_t2_TR3', '5GB1_FM40_T0m_TR2', '5GB1_FM40_T10m_TR3',\n",
       "       '5GB1_FM40_T20m_TR2', '5GB1_FM40_T40m_TR1', '5GB1_FM40_T60m_TR1',\n",
       "       '5GB1_FM40_T90m_TR2', '5GB1_FM40_T150m_TR1_remake',\n",
       "       '5GB1_FM40_T180m_TR1', '5GB1_FM34_T0_TR1_QC', '5GB1_FM34_T3_TR3_QC',\n",
       "       '5GB1_FM34_T4_TR3_QC', '5GB1_FM34_T5_TR2_QC', '5GB1_FM34_T6_TR3_QC',\n",
       "       '5GB1_FM34_T7_TR3_QC', '5GB1_FM34_T8_TR1_QC'],\n",
       "      dtype='object')"
      ]
     },
     "execution_count": 15,
     "metadata": {},
     "output_type": "execute_result"
    }
   ],
   "source": [
    "df5_log2_ratio.columns"
   ]
  },
  {
   "cell_type": "markdown",
   "metadata": {},
   "source": [
    "# Clustering log2(ratio)"
   ]
  },
  {
   "cell_type": "code",
   "execution_count": 16,
   "metadata": {
    "collapsed": false
   },
   "outputs": [
    {
     "data": {
      "text/plain": [
       "KMeans(copy_x=True, init='k-means++', max_iter=300, n_clusters=30, n_init=10,\n",
       "    n_jobs=1, precompute_distances='auto', random_state=3, tol=0.0001,\n",
       "    verbose=0)"
      ]
     },
     "execution_count": 16,
     "metadata": {},
     "output_type": "execute_result"
    }
   ],
   "source": [
    "from sklearn.cluster import KMeans\n",
    "\n",
    "X = df5_log2_ratio\n",
    "\n",
    "kmeans = KMeans(n_clusters=30, max_iter=300, random_state=3) #15 clusters and random_stat = 3 gives good cluster\n",
    "kmeans.fit(X)"
   ]
  },
  {
   "cell_type": "code",
   "execution_count": 17,
   "metadata": {
    "collapsed": false
   },
   "outputs": [
    {
     "name": "stdout",
     "output_type": "stream",
     "text": [
      "[ 0  1  2  3  4  5  6  7  8  9 10 11 12 13 14 15 16 17 18 19 20 21 22 23 24\n",
      " 25 26 27 28 29]\n",
      "[ 17 210 301  17 409  23 408 218  10  16  67  47  18   9 160  17 366  42\n",
      " 113 180 278 144  14 317 279 266 280 145   7  32]\n"
     ]
    }
   ],
   "source": [
    "labels_kmeans = kmeans.labels_\n",
    "print(np.unique(labels_kmeans)) # unique bins\n",
    "print(np.bincount(labels_kmeans[labels_kmeans!=-1])) #genes in each bin/cluster"
   ]
  },
  {
   "cell_type": "code",
   "execution_count": 18,
   "metadata": {
    "collapsed": false
   },
   "outputs": [],
   "source": [
    "#Adding cluster labels to gene dataframe\n",
    "clusters_df = pd.DataFrame(labels_kmeans, index = df5_log2_ratio.index)\n",
    "clusters_df.rename(columns = {0:\"cluster\"}, inplace = True)\n",
    "df6_clusters = pd.concat([df5_log2_ratio, clusters_df], axis = 1)\n",
    "\n"
   ]
  },
  {
   "cell_type": "markdown",
   "metadata": {},
   "source": [
    "# Silhouette analysis for optimal K value"
   ]
  },
  {
   "cell_type": "code",
   "execution_count": 20,
   "metadata": {
    "collapsed": true
   },
   "outputs": [],
   "source": [
    "from sklearn.metrics import silhouette_score\n",
    "from sklearn.cluster import KMeans"
   ]
  },
  {
   "cell_type": "code",
   "execution_count": null,
   "metadata": {
    "collapsed": false
   },
   "outputs": [],
   "source": [
    "labels_kmeans = kmeans.labels_\n",
    "X = df5_log2_ratio.values\n",
    "\n",
    "silhouette_ave = silhouette_score(X, labels_kmeans)"
   ]
  },
  {
   "cell_type": "code",
   "execution_count": null,
   "metadata": {
    "collapsed": false
   },
   "outputs": [],
   "source": [
    "silhouette_ave"
   ]
  },
  {
   "cell_type": "code",
   "execution_count": null,
   "metadata": {
    "collapsed": false
   },
   "outputs": [],
   "source": [
    "k_list = list(range(1,(10+1),2))\n",
    "\n",
    "k_list"
   ]
  },
  {
   "cell_type": "code",
   "execution_count": null,
   "metadata": {
    "collapsed": false
   },
   "outputs": [],
   "source": [
    "def silhouette_score(df, k):\n",
    "    \"\"\"\n",
    "    Generates a silhouette analysis on Kmeans for a dataframe (rows = sample points, in this case genes)\n",
    "                                                                (columns = features, in this case RNA samples)\n",
    "    Parameters:\n",
    "    -----------\n",
    "    df = dataframe of interest - must only contain quantitative elements.\n",
    "\n",
    "\n",
    "    Recomended inputs:\n",
    "    silhouette_score(df5_log2_ratio, k = 60)\n",
    "    \n",
    "    \"\"\"\n",
    "    #k_list = list(range(1,(k+1),1))\n",
    "    #k_list = [1,2,3,4,5]\n",
    "    i = k\n",
    "    X = df\n",
    "    \n",
    "    k_values_array = np.array([])\n",
    "    silhouette_array = np.array([])\n",
    "    \n",
    "    #for i in k_list:\n",
    "\n",
    "    kmeans = KMeans(n_clusters=i, max_iter=300, random_state=3) #15 clusters and random_stat = 3 gives good cluster\n",
    "    kmeans.fit(X)\n",
    "    \n",
    "    labels_kmeans = kmeans.labels_\n",
    "        \n",
    "    silhouette_ave = silhouette_score(X, labels_kmeans)\n",
    "    \n",
    "    k_values_array = np.append(k_values_array, [int(i)])\n",
    "    silhouette_array = np.append(k_values_array, [silhouette_ave])\n",
    "    \n",
    "    \n",
    "    \n",
    "    plt.plot(k_values_array, silhouete_array)\n",
    "    \n",
    "    \n",
    "test1 = silhouette_score(df5_log2_ratio, 10)"
   ]
  },
  {
   "cell_type": "code",
   "execution_count": null,
   "metadata": {
    "collapsed": false
   },
   "outputs": [],
   "source": [
    "df5_log2_ratio.values"
   ]
  },
  {
   "cell_type": "code",
   "execution_count": 41,
   "metadata": {
    "collapsed": false
   },
   "outputs": [
    {
     "data": {
      "text/plain": [
       "' \\ntest1 = silhouette_score(df5_log2_ratio, 10)\\n\\n'"
      ]
     },
     "execution_count": 41,
     "metadata": {},
     "output_type": "execute_result"
    },
    {
     "data": {
      "image/png": "[encoded data removed]",
      "text/plain": [
       "<matplotlib.figure.Figure at 0x10daad8d0>"
      ]
     },
     "metadata": {},
     "output_type": "display_data"
    }
   ],
   "source": [
    "df = df5_log2_ratio\n",
    "k = 15\n",
    "i = 15\n",
    "    \n",
    "k_values_array = np.array([])\n",
    "silhouette_array = np.array([])\n",
    "\n",
    "k_list = [2,4,6,8,10,12,14,16,18,20,22,24,26,28,30]\n",
    "    \n",
    "\n",
    "for i in k_list:\n",
    "\n",
    "    kmeans = KMeans(n_clusters=i, max_iter=300, random_state=3) #15 clusters and random_stat = 3 gives good cluster\n",
    "    kmeans.fit(df)\n",
    "    \n",
    "    labels_kmeans = kmeans.labels_\n",
    "\n",
    "\n",
    "  \n",
    "    silhouette_ave = silhouette_score(df.values, labels_kmeans)\n",
    "    \n",
    "    \n",
    "    k_values_array = np.append(k_values_array, [int(i)])\n",
    "    silhouette_array = np.append(silhouette_array, [silhouette_ave])\n",
    "    \n",
    "    \n",
    "\n",
    "plt.plot(k_values_array, silhouette_array, \"r+\")\n",
    "    \n",
    "\"\"\" \n",
    "test1 = silhouette_score(df5_log2_ratio, 10)\n",
    "\n",
    "\"\"\""
   ]
  },
  {
   "cell_type": "code",
   "execution_count": 34,
   "metadata": {
    "collapsed": true
   },
   "outputs": [],
   "source": [
    "plt.plot?"
   ]
  },
  {
   "cell_type": "code",
   "execution_count": 39,
   "metadata": {
    "collapsed": false
   },
   "outputs": [
    {
     "name": "stdout",
     "output_type": "stream",
     "text": [
      "[ 0.36592393  0.26322996  0.23372567]\n",
      "[ 2.  4.  6.]\n",
      "[ 2.  4.  6.]\n",
      "[ 0.36592393  0.26322996  0.23372567]\n"
     ]
    }
   ],
   "source": [
    "print(silhouette_array)\n",
    "print(k_values_array)\n",
    "\n",
    "print(k_values_array)\n",
    "print(silhouette_array)"
   ]
  },
  {
   "cell_type": "code",
   "execution_count": null,
   "metadata": {
    "collapsed": true
   },
   "outputs": [],
   "source": []
  },
  {
   "cell_type": "code",
   "execution_count": null,
   "metadata": {
    "collapsed": false
   },
   "outputs": [],
   "source": [
    "s = silhouette_score(df6_clusters.iloc[:,:-1].values, df6_clusters.iloc[:,-1].values)"
   ]
  },
  {
   "cell_type": "code",
   "execution_count": null,
   "metadata": {
    "collapsed": false
   },
   "outputs": [],
   "source": [
    "s"
   ]
  },
  {
   "cell_type": "code",
   "execution_count": null,
   "metadata": {
    "collapsed": true
   },
   "outputs": [],
   "source": [
    "silhouette"
   ]
  },
  {
   "cell_type": "code",
   "execution_count": null,
   "metadata": {
    "collapsed": false
   },
   "outputs": [],
   "source": [
    "from sklearn import datasets\n",
    "from sklearn.metrics import *\n",
    "iris = datasets.load_iris()\n",
    "#X = pd.DataFrame(iris.data, columns = col)\n",
    "y = pd.DataFrame(iris.target,columns = ['cluster'])\n",
    "#s = silhouette_score(X, y, metric='euclidean',sample_size=int(50))"
   ]
  },
  {
   "cell_type": "code",
   "execution_count": null,
   "metadata": {
    "collapsed": false
   },
   "outputs": [],
   "source": [
    "y"
   ]
  },
  {
   "cell_type": "code",
   "execution_count": null,
   "metadata": {
    "collapsed": false
   },
   "outputs": [],
   "source": [
    "df5_log2_ratio"
   ]
  },
  {
   "cell_type": "code",
   "execution_count": null,
   "metadata": {
    "collapsed": false
   },
   "outputs": [],
   "source": [
    "df5_log2_ratio.values"
   ]
  },
  {
   "cell_type": "code",
   "execution_count": null,
   "metadata": {
    "collapsed": false
   },
   "outputs": [],
   "source": [
    "#Mary has a list of genes that are known to be Cu repressible. \n",
    "# genes #43 - 52 should be in a single cluster. \n",
    "# genes #53 - 56 & #42 should be in another\n",
    "\n",
    "Marys_list = [\"MBURv2_130042\",\n",
    "\"MBURv2_130043\",\n",
    "\"MBURv2_130044\",\n",
    "\"MBURv2_130045\",\n",
    "\"MBURv2_130046\",\n",
    "\"MBURv2_130047\",\n",
    "\"MBURv2_130048\",\n",
    "\"MBURv2_130049\",\n",
    "\"MBURv2_130050\",\n",
    "\"MBURv2_130051\",\n",
    "\"MBURv2_130052\",\n",
    "\"MBURv2_130053\",\n",
    "\"MBURv2_130054\",\n",
    "\"MBURv2_130055\",\n",
    "\"MBURv2_130056\"]\n",
    "\n",
    "df6_clusters.loc[Marys_list,:]"
   ]
  },
  {
   "cell_type": "code",
   "execution_count": null,
   "metadata": {
    "collapsed": false
   },
   "outputs": [],
   "source": [
    "#List of genes that appear to be interesting\n",
    "\n",
    "df3_TPM.loc[['MBURv2_160425',\n",
    " 'MBURv2_200002',\n",
    " 'MBURv2_210001',\n",
    " 'MBURv2_210002',\n",
    " 'MBURv2_210003',\n",
    " 'MBURv2_210005',\n",
    " 'MBURv2_210007',\n",
    " 'MBURv2_60380'],:]"
   ]
  },
  {
   "cell_type": "code",
   "execution_count": null,
   "metadata": {
    "collapsed": false
   },
   "outputs": [],
   "source": [
    "df6_clusters.columns"
   ]
  },
  {
   "cell_type": "markdown",
   "metadata": {},
   "source": [
    "# Plotting the resulting clusters"
   ]
  },
  {
   "cell_type": "code",
   "execution_count": null,
   "metadata": {
    "collapsed": false
   },
   "outputs": [],
   "source": [
    "import matplotlib.pyplot as plt\n",
    "%matplotlib inline"
   ]
  },
  {
   "cell_type": "code",
   "execution_count": null,
   "metadata": {
    "collapsed": false
   },
   "outputs": [],
   "source": [
    "def draw_clust_means(df, n_rows, n_cols):\n",
    "    \n",
    "    \"\"\"\n",
    "    Draw scatter plot of mean gene expression level for genes in that cluster.\n",
    "    Will include 1 standard deviation error margin within the plot. \n",
    "    Plot will be saves as pdf file. \n",
    "    \n",
    "    \n",
    "    df: daframe with locus tag as index, and \"cluster\" column with cluster number for each gene. \n",
    "    n_rows: int value for the subplot grid\n",
    "    n_cols: int value for subplot grid\n",
    "    \n",
    "    \"\"\"\n",
    "    \n",
    "    fig = plt.figure(figsize = (100, 50))\n",
    "    x_axis = list(range(len(df.columns)-1))\n",
    "    x_ticks = df.loc[:, df.columns != \"cluster\"]\n",
    "    \n",
    "    y_stdev = df.groupby(\"cluster\").std()\n",
    "    y_mean = df.groupby(\"cluster\").mean()\n",
    "    \n",
    "    y_low = y_mean.subtract(y_stdev, fill_value=0)\n",
    "    y_high = y_mean.add(y_stdev, fill_value = 0)\n",
    "    \n",
    "    count = df.groupby(\"cluster\").count().iloc[:,0]\n",
    "    \n",
    "    for i in range(y_mean.shape[0]):\n",
    "        y = y_mean.values[i]\n",
    "        y_hi = y_high.values[i]\n",
    "        y_lo = y_low.values[i]\n",
    "        \n",
    "        title_str = \"Cluster #\"+ str(i) + \": \" + str(count[i]) + \" genes\"\n",
    "        \n",
    "        ax = fig.add_subplot(n_rows, n_cols, i+1)\n",
    "        ax.set_xticks(x_axis)\n",
    "        ax.set_xticklabels(x_ticks, rotation = \"vertical\")\n",
    "        ax.set_title(title_str)\n",
    "        ax.set_ylabel(\"Log2(Sample/T0)\")\n",
    "        \n",
    "        ax.plot(x_axis, y, \"b-\")\n",
    "        ax.plot(x_axis, y_hi, \"b-\", alpha = 0.5)\n",
    "        ax.plot(x_axis, y_lo, \"b-\", alpha = 0.5 )\n",
    "        \n",
    "    fig.subplots_adjust(hspace = 2)\n",
    "    plt.show()\n",
    "    fig.savefig(\"cluster_means.pdf\")\n",
    "    \n",
    "    \n",
    "testa = df6_clusters #.iloc[:500,:]\n",
    "draw_clust_means(testa, 10, 6 )"
   ]
  },
  {
   "cell_type": "code",
   "execution_count": null,
   "metadata": {
    "collapsed": false
   },
   "outputs": [],
   "source": [
    "def draw_clst_genes(df, clst):\n",
    "    \n",
    "    \"\"\"\n",
    "    Plots the expression profile of each gene in a specified cluster. Creates subplots with 5 genes per subplot. \n",
    "    \n",
    "    \n",
    "    df: dataframe with normalized read counts for each sample and a \"cluster\" column with cluster id #\n",
    "    clst: int value of the cluster number the genes of which need to be plotting across samples. \n",
    "    \"\"\"\n",
    "    \n",
    "\n",
    "    fig = plt.figure(figsize = (100, 50))\n",
    "    x_axis = list(range(len(df.columns)-1))\n",
    "    x_ticks = df.loc[:, df.columns != \"cluster\"]\n",
    "    \n",
    "    clst_index = df.loc[df[\"cluster\"] == clst,:].index\n",
    "    \n",
    "    n_cols = 6\n",
    "    n_rows = 10\n",
    "    \n",
    "    count_subplots = 1\n",
    "    for i, val in enumerate(clst_index):\n",
    "        \n",
    "        if i % 5 == 0:\n",
    "            ax = fig.add_subplot(n_rows, n_cols, count_subplots)\n",
    "            count_subplots += 1\n",
    "            title_str = \"Cluster #\"+ str(clst) + \" genes \" + str(i) + \"-\" + str(i + 5) +\" of \" + str(len(clst_index))\n",
    "             \n",
    "        y = df.loc[val, (df.columns != \"cluster\")].values\n",
    "        ax.set_xticks(x_axis)\n",
    "        ax.set_xticklabels(x_ticks, rotation = \"vertical\")\n",
    "        ax.set_title(title_str)\n",
    "        ax.set_ylabel(\"Log2(Sample/T0)\")\n",
    "        \n",
    "        ax.plot(x_axis,y, label = str(val))\n",
    "        leg = ax.legend(fancybox = True ,loc='upper left')\n",
    "        leg.get_frame().set_alpha(0.5) #translucent \n",
    "        \n",
    "        for label in leg.get_texts():\n",
    "            label.set_fontsize('small')\n",
    "        \n",
    "    fig.subplots_adjust(hspace = 2)\n",
    "    plt.show()\n",
    "    fig.savefig(\"cluster \" + str(clst) + \" genes.pdf\")\n",
    "    return list(clst_index) #returns a list \n",
    "    \n",
    "testa = df6_clusters #.iloc[:500,:]\n",
    "the_list = draw_clst_genes(testa, 8)"
   ]
  },
  {
   "cell_type": "code",
   "execution_count": null,
   "metadata": {
    "collapsed": false
   },
   "outputs": [],
   "source": [
    "the_list"
   ]
  },
  {
   "cell_type": "code",
   "execution_count": null,
   "metadata": {
    "collapsed": false
   },
   "outputs": [],
   "source": [
    "def draw_gene_list(df, gene_list):\n",
    "    \n",
    "    fig = plt.figure(figsize = (20, 10))\n",
    "    ax = fig.add_subplot(111)\n",
    "    \n",
    "    x_axis = list(range(len(df.columns)-1))\n",
    "    x_ticks = df.loc[:, df.columns != \"cluster\"]\n",
    "    \n",
    "    title_str = \"Select gene expression across samples\"\n",
    "    \n",
    "    for i in gene_list:\n",
    "        y = df.loc[i, (df.columns != \"cluster\")].values\n",
    "        ax.plot(x_axis, y, label = str(i))\n",
    "        \n",
    "        leg = ax.legend(fancybox = True ,loc='upper left')\n",
    "        \n",
    "        ax.set_xticks(x_axis)\n",
    "        ax.set_xticklabels(x_ticks, rotation = \"vertical\")\n",
    "        #ax.set_title(title_str, fontsize = 50)\n",
    "        ax.set_ylabel(\"Log2(Sample/T0)\", fontsize = 15)\n",
    "        \n",
    "    fig.suptitle(title_str, fontsize = 20)\n",
    "    plt.show()\n",
    "    fig.savefig(\"list_of_genes.pdf\")    "
   ]
  },
  {
   "cell_type": "code",
   "execution_count": null,
   "metadata": {
    "collapsed": false
   },
   "outputs": [],
   "source": [
    "the_list"
   ]
  },
  {
   "cell_type": "code",
   "execution_count": null,
   "metadata": {
    "collapsed": true
   },
   "outputs": [],
   "source": [
    "Cu_repres_conserved = [\"MBURv2_130042\",\n",
    "\"MBURv2_130043\",\n",
    "\"MBURv2_130044\",\n",
    "\"MBURv2_130045\",\n",
    "\"MBURv2_130046\",\n",
    "\"MBURv2_130047\",\n",
    "\"MBURv2_130048\",\n",
    "\"MBURv2_130049\",\n",
    "\"MBURv2_130050\",\n",
    "\"MBURv2_130051\"]\n"
   ]
  },
  {
   "cell_type": "code",
   "execution_count": null,
   "metadata": {
    "collapsed": false
   },
   "outputs": [],
   "source": [
    "#list of Cu repressible genes (including genes not conserved in other methanotrophs)\n",
    "draw_gene_list(testa, Cu_repres_conserved)\n"
   ]
  },
  {
   "cell_type": "code",
   "execution_count": null,
   "metadata": {
    "collapsed": false
   },
   "outputs": [],
   "source": [
    "#which gene is low?\n",
    "draw_gene_list(testa, [\"MBURv2_130042\"])"
   ]
  },
  {
   "cell_type": "code",
   "execution_count": null,
   "metadata": {
    "collapsed": true
   },
   "outputs": [],
   "source": [
    "#Cu repressible genes not conserved in other methanotrophs \n",
    "Cu_repres_not_conserved = [\"MBURv2_130052\",\n",
    "\"MBURv2_130053\",\n",
    "\"MBURv2_130054\",\n",
    "\"MBURv2_130055\",\n",
    "\"MBURv2_130056\"]\n"
   ]
  },
  {
   "cell_type": "code",
   "execution_count": null,
   "metadata": {
    "collapsed": false
   },
   "outputs": [],
   "source": [
    "draw_gene_list(testa, Cu_repres_not_conserved)"
   ]
  },
  {
   "cell_type": "code",
   "execution_count": null,
   "metadata": {
    "collapsed": false
   },
   "outputs": [],
   "source": [
    "#which gene is high? \n",
    "\n",
    "draw_gene_list(testa, [\"MBURv2_130052\"])\n"
   ]
  },
  {
   "cell_type": "code",
   "execution_count": null,
   "metadata": {
    "collapsed": true
   },
   "outputs": [],
   "source": [
    "#which cluster do these genes belong to?"
   ]
  },
  {
   "cell_type": "code",
   "execution_count": null,
   "metadata": {
    "collapsed": true
   },
   "outputs": [],
   "source": [
    "Marys_list = [\"MBURv2_130042\",\n",
    "\"MBURv2_130043\",\n",
    "\"MBURv2_130044\",\n",
    "\"MBURv2_130045\",\n",
    "\"MBURv2_130046\",\n",
    "\"MBURv2_130047\",\n",
    "\"MBURv2_130048\",\n",
    "\"MBURv2_130049\",\n",
    "\"MBURv2_130050\",\n",
    "\"MBURv2_130051\",\n",
    "\"MBURv2_130052\",\n",
    "\"MBURv2_130053\",\n",
    "\"MBURv2_130054\",\n",
    "\"MBURv2_130055\",\n",
    "\"MBURv2_130056\"]\n",
    "\n",
    "df6_clusters.loc[Marys_list,:]\n"
   ]
  },
  {
   "cell_type": "markdown",
   "metadata": {},
   "source": [
    "# Going to try to cluster with HDBSCAN just for giggles"
   ]
  },
  {
   "cell_type": "code",
   "execution_count": null,
   "metadata": {
    "collapsed": true
   },
   "outputs": [],
   "source": [
    "\"\"\"\n",
    "import hdbscan\n",
    "X = df5_log2_ratio\n",
    "HDBSCAN = hdbscan.HDBSCAN(metric = \"euclidean\", min_cluster_size=5)\n",
    "HDBSCAN.fit(X)\n",
    "labels = HDBSCAN.labels_\n",
    "\n",
    "\n",
    "\n",
    "print(np.unique(labels)) # unique bins, zero is noise\n",
    "print(np.bincount(labels[labels!=-1])) \n",
    "\"\"\""
   ]
  }
 ],
 "metadata": {
  "kernelspec": {
   "display_name": "Python 3",
   "language": "python",
   "name": "python3"
  },
  "language_info": {
   "codemirror_mode": {
    "name": "ipython",
    "version": 3
   },
   "file_extension": ".py",
   "mimetype": "text/x-python",
   "name": "python",
   "nbconvert_exporter": "python",
   "pygments_lexer": "ipython3",
   "version": "3.4.4"
  }
 },
 "nbformat": 4,
 "nbformat_minor": 0
}
